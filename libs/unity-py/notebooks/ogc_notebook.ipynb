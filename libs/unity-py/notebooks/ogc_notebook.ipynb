{
 "cells": [
  {
   "cell_type": "markdown",
   "id": "10330d43-99d5-4c16-be68-37e93dcf2342",
   "metadata": {},
   "source": [
    "# Submitting jobs using the OGC API\n",
    "\n",
    "## Summary\n",
    "\n",
    "The [OGC (\"Open Spatial Consortium\") Processes API (\"Abstract Program Interface\")](https://ogcapi.ogc.org/processes/) is an international specification for executing remote processing of Earth Science data. The user makes HTTP(s) requests to execute data processing on a remote server, passing all required information in JSON (\"JavaScript Object Notation\") format. The user can use the OGC API to register, execute, and interact with CWL (\"Common Workflow Language) defined [Airflow DAGs (\"Directed Acyclic Graph\")](https://airflow.apache.org/docs/apache-airflow/stable/core-concepts/dags.html) as OGC API processes.\n",
    "\n",
    "This tutorial covers how to execute a CWL DAG using the `Unity-Py` Python client program which interfaces with the OGC Processes API. This can be used to execute any CWL workflow which invokes a science algorithm packaged as a Docker container.\n",
    "\n",
    "**Note on process vs. job:** A process is equivalent to an Airflow DAG in the Unity sytem and describes an algorithm you wish to execute while a job is the execution of that process. A process may have many jobs executing at a single time while a job belongs to a single process.\n",
    "\n",
    "## Requirements\n",
    "\n",
    "- Any compute environment: Local or in the cloud\n",
    "- This tutorial assumes you have deployed an OGC process to the OGC Processes API endpoint but covers briefly how to register (and deregister) a process at the end\n",
    "- This notebook uses the [Unity-Py](https://github.com/unity-sds/unity-monorepo/tree/main/libs/unity-py) library to interact with the OGC API\n",
    "- Unity environment (e.g., DEV, TEST, PROD) and venue (e.g., unity-sbg-dev, unity-emit-dev, unity-asips-int) names. See [this documentation](https://unity-sds.gitbook.io/docs/system-docs/architecture/deployments-projects-and-venues/unity-owned-venues) for guidance\n",
    "- Unity username and password\n",
    "- A URL for the OGC API processes endpoint, something like: `https://unity-dev-httpd-alb-XXXXXXXXXX.us-west-2.elb.amazonaws.com:1234/unity/dev/ogc/`\n",
    "\n",
    "## Learning Objectives\n",
    "\n",
    "- List all processes that have been registered at the OGC endpoint URL\n",
    "- Get details on a single process\n",
    "- Execute a job\n",
    "- Monitor a job\n",
    "- Get all jobs executing for a process\n",
    "- Delete a job"
   ]
  },
  {
   "cell_type": "code",
   "execution_count": 1,
   "id": "700eddd2-77af-4849-8343-3f0fef34ff73",
   "metadata": {
    "is_executing": true
   },
   "outputs": [],
   "source": [
    "from datetime import datetime\n",
    "import time\n",
    "\n",
    "from IPython.display import JSON\n",
    "from ipywidgets import widgets\n",
    "\n",
    "import requests\n",
    "\n",
    "from unity_sds_client.unity import Unity    # Unity-Py python client library\n",
    "from unity_sds_client.unity_services import UnityServices\n",
    "from unity_sds_client.resources.job_status import JobStatus\n",
    "from unity_sds_client.unity import UnityEnvironments"
   ]
  },
  {
   "cell_type": "markdown",
   "id": "b090aa32-e85e-4fac-9dae-1a060892ecec",
   "metadata": {},
   "source": [
    "## Set up Unity-Py environment\n",
    "\n",
    "The following code will set up the Unity-Py client so that it can interact with an OGC Processes API endpoint. Then you can query the API for process information."
   ]
  },
  {
   "cell_type": "code",
   "execution_count": 2,
   "id": "4029cee7-9c5b-4ac1-bd54-45fb45be9397",
   "metadata": {},
   "outputs": [
    {
     "name": "stdin",
     "output_type": "stream",
     "text": [
      "Please enter your Unity username:  tebaldi\n",
      "Please enter your Unity password:  ········\n"
     ]
    }
   ],
   "source": [
    "# Point Unity-Py to DEV environment for testing and development work\n",
    "unity = Unity(UnityEnvironments.DEV)    # Enter Unity username and password"
   ]
  },
  {
   "cell_type": "code",
   "execution_count": null,
   "id": "16b4ba2c-3e18-4bfc-b2f3-af7c2c19f6d4",
   "metadata": {},
   "outputs": [],
   "source": [
    "# Venue-level configuration\n",
    "unity.set_venue_id(\"\")   # Leave blank for now\n",
    "\n",
    "# Define process service to interact with the Processes API\n",
    "process_service = unity.client(UnityServices.PROCESS_SERVICE)\n",
    "process_service.endpoint = input(\"Please enter the URL for the OGC Processes API: \")"
   ]
  },
  {
   "cell_type": "markdown",
   "id": "84e43ee2-af60-4071-8409-e2fce0f2cdb6",
   "metadata": {},
   "source": [
    "## List available processes"
   ]
  },
  {
   "cell_type": "code",
   "execution_count": 4,
   "id": "865f0b16-c954-45a9-984a-953be93749a3",
   "metadata": {},
   "outputs": [
    {
     "name": "stdout",
     "output_type": "stream",
     "text": [
      "cwl_dag details: unity_sds_client.resources.Process(\n",
      "    id=\"cwl_dag\",\n",
      "    process_version=\"1.0.0\"\n",
      "    title=\"Generic CWL Process\",\n",
      "    abstract=\"This process executes any CWL workflow.\",\n",
      "    keywords=\"None\"\n",
      ")\n",
      "\n"
     ]
    }
   ],
   "source": [
    "# Retrieve all processes that have been registered at the OGC Processes API endpoint\n",
    "processes = process_service.get_processes()\n",
    "\n",
    "for process in processes:\n",
    "    print(f\"{process.id} details: {process}\\n\")\n",
    "\n",
    "# Available Process object attributes\n",
    "# id, title, job_control_options, keywords, process_version, abstract, inputs, outputs"
   ]
  },
  {
   "cell_type": "code",
   "execution_count": 5,
   "id": "399a8c39-a69b-49a8-b9b1-03de6b3bc62f",
   "metadata": {},
   "outputs": [
    {
     "name": "stdout",
     "output_type": "stream",
     "text": [
      "unity_sds_client.resources.Process(\n",
      "    id=\"cwl_dag\",\n",
      "    process_version=\"1.0.0\"\n",
      "    title=\"Generic CWL Process\",\n",
      "    abstract=\"This process executes any CWL workflow.\",\n",
      "    keywords=\"None\"\n",
      ")\n"
     ]
    }
   ],
   "source": [
    "# Retrieve a specific DAG that you would like to execute a job for\n",
    "process = process_service.get_process(\"cwl_dag\")\n",
    "print(process)"
   ]
  },
  {
   "cell_type": "markdown",
   "id": "8edd173d-5dfb-4cb8-9876-ac0d3b7fc7e4",
   "metadata": {},
   "source": [
    "## Execute a process (i.e. create a job)\n",
    "\n",
    "The following code defines the inputs/outputs needed to execute a job from the process defined above."
   ]
  },
  {
   "cell_type": "code",
   "execution_count": 6,
   "id": "f08adb26-822e-4e01-8ec1-fbb4eb58bd26",
   "metadata": {},
   "outputs": [
    {
     "name": "stdout",
     "output_type": "stream",
     "text": [
      "unity_sds_client.resources.Job(\n",
      "    id=\"22ccd35f-fd72-4ffd-acbb-3de9c4424b69\",\n",
      "    process=\"cwl_dag\",\n",
      "    status=\"accepted\",\n",
      "    inputs=None\n",
      ")\n"
     ]
    }
   ],
   "source": [
    "# Set the necessary workflow inputs\n",
    "data = {\n",
    "  \"inputs\": {\n",
    "    \"cwl_workflow\": \"https://raw.githubusercontent.com/unity-sds/sbg-workflows/main/preprocess/sbg-preprocess-workflow.cwl\",    # Raw GitHub link to the CWL definition\n",
    "    \"cwl_args\": \"https://raw.githubusercontent.com/unity-sds/sbg-workflows/main/preprocess/sbg-preprocess-workflow.dev.yml\",    # YAML file that contains CWL workflow arguments\n",
    "    \"request_instance_type\": \"r7i.xlarge\",    # Specify the EC2 instance type used to execute the job\n",
    "    \"request_storage\": \"10Gi\"    # Specify how much ephemeral storage is allocated to the job\n",
    "  },\n",
    "  \"outputs\": {\n",
    "    \"result\": {\n",
    "      \"transmissionMode\": \"reference\"    # Indicate the return of data is in the form of a link rather than a raw value\n",
    "    }\n",
    "  }\n",
    "}\n",
    "\n",
    "job = process.execute(data)\n",
    "print(job)   # Print initial details about the job"
   ]
  },
  {
   "cell_type": "markdown",
   "id": "b5cc0d8b-a56b-448e-bdb5-b1d4ce8c1c11",
   "metadata": {},
   "source": [
    "## Monitor the job"
   ]
  },
  {
   "cell_type": "code",
   "execution_count": 7,
   "id": "a18a5727-750c-4307-b77c-7389d4ccc0f4",
   "metadata": {
    "scrolled": true
   },
   "outputs": [
    {
     "name": "stdout",
     "output_type": "stream",
     "text": [
      "Job 22ccd35f-fd72-4ffd-acbb-3de9c4424b69 is not complete; Currently in state: JobStatus.RUNNING\n",
      "Job 22ccd35f-fd72-4ffd-acbb-3de9c4424b69 is not complete; Currently in state: JobStatus.RUNNING\n",
      "Job 22ccd35f-fd72-4ffd-acbb-3de9c4424b69 is not complete; Currently in state: JobStatus.RUNNING\n",
      "Job 22ccd35f-fd72-4ffd-acbb-3de9c4424b69 is not complete; Currently in state: JobStatus.RUNNING\n",
      "Job 22ccd35f-fd72-4ffd-acbb-3de9c4424b69 is not complete; Currently in state: JobStatus.RUNNING\n",
      "Job 22ccd35f-fd72-4ffd-acbb-3de9c4424b69 is not complete; Currently in state: JobStatus.RUNNING\n",
      "Job 22ccd35f-fd72-4ffd-acbb-3de9c4424b69 is not complete; Currently in state: JobStatus.RUNNING\n",
      "Job 22ccd35f-fd72-4ffd-acbb-3de9c4424b69 is not complete; Currently in state: JobStatus.RUNNING\n",
      "Job 22ccd35f-fd72-4ffd-acbb-3de9c4424b69 is not complete; Currently in state: JobStatus.RUNNING\n",
      "Job 22ccd35f-fd72-4ffd-acbb-3de9c4424b69 is not complete; Currently in state: JobStatus.RUNNING\n",
      "Job 22ccd35f-fd72-4ffd-acbb-3de9c4424b69 is not complete; Currently in state: JobStatus.RUNNING\n",
      "Job 22ccd35f-fd72-4ffd-acbb-3de9c4424b69 is not complete; Currently in state: JobStatus.RUNNING\n",
      "Job 22ccd35f-fd72-4ffd-acbb-3de9c4424b69 is not complete; Currently in state: JobStatus.RUNNING\n",
      "Job 22ccd35f-fd72-4ffd-acbb-3de9c4424b69 is not complete; Currently in state: JobStatus.RUNNING\n",
      "Job 22ccd35f-fd72-4ffd-acbb-3de9c4424b69 is not complete; Currently in state: JobStatus.RUNNING\n",
      "Job 22ccd35f-fd72-4ffd-acbb-3de9c4424b69 is not complete; Currently in state: JobStatus.RUNNING\n",
      "Job 22ccd35f-fd72-4ffd-acbb-3de9c4424b69 is not complete; Currently in state: JobStatus.RUNNING\n",
      "Job 22ccd35f-fd72-4ffd-acbb-3de9c4424b69 is not complete; Currently in state: JobStatus.RUNNING\n",
      "Job 22ccd35f-fd72-4ffd-acbb-3de9c4424b69 is not complete; Currently in state: JobStatus.RUNNING\n",
      "Job 22ccd35f-fd72-4ffd-acbb-3de9c4424b69 is not complete; Currently in state: JobStatus.RUNNING\n",
      "Job 22ccd35f-fd72-4ffd-acbb-3de9c4424b69 is not complete; Currently in state: JobStatus.RUNNING\n",
      "Job 22ccd35f-fd72-4ffd-acbb-3de9c4424b69 is not complete; Currently in state: JobStatus.RUNNING\n",
      "Job 22ccd35f-fd72-4ffd-acbb-3de9c4424b69 is not complete; Currently in state: JobStatus.RUNNING\n",
      "Job 22ccd35f-fd72-4ffd-acbb-3de9c4424b69 is not complete; Currently in state: JobStatus.RUNNING\n",
      "Job 22ccd35f-fd72-4ffd-acbb-3de9c4424b69 is not complete; Currently in state: JobStatus.RUNNING\n",
      "Job 22ccd35f-fd72-4ffd-acbb-3de9c4424b69 is not complete; Currently in state: JobStatus.RUNNING\n",
      "Job 22ccd35f-fd72-4ffd-acbb-3de9c4424b69 is not complete; Currently in state: JobStatus.RUNNING\n",
      "Job 22ccd35f-fd72-4ffd-acbb-3de9c4424b69 is not complete; Currently in state: JobStatus.RUNNING\n",
      "Job 22ccd35f-fd72-4ffd-acbb-3de9c4424b69 is not complete; Currently in state: JobStatus.RUNNING\n",
      "Job 22ccd35f-fd72-4ffd-acbb-3de9c4424b69 is not complete; Currently in state: JobStatus.RUNNING\n",
      "Job 22ccd35f-fd72-4ffd-acbb-3de9c4424b69 is not complete; Currently in state: JobStatus.RUNNING\n",
      "Job 22ccd35f-fd72-4ffd-acbb-3de9c4424b69 is not complete; Currently in state: JobStatus.RUNNING\n",
      "Job 22ccd35f-fd72-4ffd-acbb-3de9c4424b69 is not complete; Currently in state: JobStatus.RUNNING\n",
      "Job 22ccd35f-fd72-4ffd-acbb-3de9c4424b69 is not complete; Currently in state: JobStatus.RUNNING\n",
      "Job 22ccd35f-fd72-4ffd-acbb-3de9c4424b69 is not complete; Currently in state: JobStatus.RUNNING\n",
      "Job 22ccd35f-fd72-4ffd-acbb-3de9c4424b69 is not complete; Currently in state: JobStatus.RUNNING\n",
      "Job 22ccd35f-fd72-4ffd-acbb-3de9c4424b69 is not complete; Currently in state: JobStatus.RUNNING\n",
      "Job 22ccd35f-fd72-4ffd-acbb-3de9c4424b69 is not complete; Currently in state: JobStatus.RUNNING\n",
      "Job 22ccd35f-fd72-4ffd-acbb-3de9c4424b69 is not complete; Currently in state: JobStatus.RUNNING\n",
      "Job 22ccd35f-fd72-4ffd-acbb-3de9c4424b69 is not complete; Currently in state: JobStatus.RUNNING\n",
      "Job 22ccd35f-fd72-4ffd-acbb-3de9c4424b69 is not complete; Currently in state: JobStatus.RUNNING\n",
      "Job 22ccd35f-fd72-4ffd-acbb-3de9c4424b69 is not complete; Currently in state: JobStatus.RUNNING\n",
      "Job 22ccd35f-fd72-4ffd-acbb-3de9c4424b69 is not complete; Currently in state: JobStatus.RUNNING\n",
      "Job 22ccd35f-fd72-4ffd-acbb-3de9c4424b69 is not complete; Currently in state: JobStatus.RUNNING\n",
      "Job 22ccd35f-fd72-4ffd-acbb-3de9c4424b69 is not complete; Currently in state: JobStatus.RUNNING\n",
      "Job 22ccd35f-fd72-4ffd-acbb-3de9c4424b69 is not complete; Currently in state: JobStatus.RUNNING\n",
      "Job 22ccd35f-fd72-4ffd-acbb-3de9c4424b69 is not complete; Currently in state: JobStatus.RUNNING\n",
      "Job 22ccd35f-fd72-4ffd-acbb-3de9c4424b69 is not complete; Currently in state: JobStatus.RUNNING\n",
      "Job 22ccd35f-fd72-4ffd-acbb-3de9c4424b69 is not complete; Currently in state: JobStatus.RUNNING\n",
      "Job 22ccd35f-fd72-4ffd-acbb-3de9c4424b69 is not complete; Currently in state: JobStatus.RUNNING\n",
      "Job 22ccd35f-fd72-4ffd-acbb-3de9c4424b69 is not complete; Currently in state: JobStatus.RUNNING\n",
      "Job 22ccd35f-fd72-4ffd-acbb-3de9c4424b69 is not complete; Currently in state: JobStatus.RUNNING\n",
      "Job 22ccd35f-fd72-4ffd-acbb-3de9c4424b69 is not complete; Currently in state: JobStatus.RUNNING\n",
      "Job 22ccd35f-fd72-4ffd-acbb-3de9c4424b69 is not complete; Currently in state: JobStatus.RUNNING\n",
      "Job 22ccd35f-fd72-4ffd-acbb-3de9c4424b69 is not complete; Currently in state: JobStatus.RUNNING\n",
      "Job 22ccd35f-fd72-4ffd-acbb-3de9c4424b69 is not complete; Currently in state: JobStatus.RUNNING\n",
      "Job 22ccd35f-fd72-4ffd-acbb-3de9c4424b69 is not complete; Currently in state: JobStatus.RUNNING\n",
      "Job 22ccd35f-fd72-4ffd-acbb-3de9c4424b69 is not complete; Currently in state: JobStatus.RUNNING\n",
      "Job 22ccd35f-fd72-4ffd-acbb-3de9c4424b69 is not complete; Currently in state: JobStatus.RUNNING\n",
      "Job 22ccd35f-fd72-4ffd-acbb-3de9c4424b69 is not complete; Currently in state: JobStatus.RUNNING\n",
      "Job 22ccd35f-fd72-4ffd-acbb-3de9c4424b69 is not complete; Currently in state: JobStatus.RUNNING\n",
      "Job 22ccd35f-fd72-4ffd-acbb-3de9c4424b69 is not complete; Currently in state: JobStatus.RUNNING\n",
      "Job 22ccd35f-fd72-4ffd-acbb-3de9c4424b69 is not complete; Currently in state: JobStatus.RUNNING\n",
      "Job 22ccd35f-fd72-4ffd-acbb-3de9c4424b69 is not complete; Currently in state: JobStatus.RUNNING\n",
      "Job 22ccd35f-fd72-4ffd-acbb-3de9c4424b69 is not complete; Currently in state: JobStatus.RUNNING\n",
      "Job 22ccd35f-fd72-4ffd-acbb-3de9c4424b69 is not complete; Currently in state: JobStatus.RUNNING\n",
      "Job 22ccd35f-fd72-4ffd-acbb-3de9c4424b69 is not complete; Currently in state: JobStatus.RUNNING\n",
      "Job 22ccd35f-fd72-4ffd-acbb-3de9c4424b69 is not complete; Currently in state: JobStatus.RUNNING\n",
      "Job 22ccd35f-fd72-4ffd-acbb-3de9c4424b69 is not complete; Currently in state: JobStatus.RUNNING\n",
      "Job 22ccd35f-fd72-4ffd-acbb-3de9c4424b69 is not complete; Currently in state: JobStatus.RUNNING\n",
      "Job 22ccd35f-fd72-4ffd-acbb-3de9c4424b69 is not complete; Currently in state: JobStatus.RUNNING\n",
      "Job 22ccd35f-fd72-4ffd-acbb-3de9c4424b69 is not complete; Currently in state: JobStatus.RUNNING\n",
      "Job 22ccd35f-fd72-4ffd-acbb-3de9c4424b69 is not complete; Currently in state: JobStatus.RUNNING\n",
      "Job 22ccd35f-fd72-4ffd-acbb-3de9c4424b69 is not complete; Currently in state: JobStatus.RUNNING\n",
      "Job 22ccd35f-fd72-4ffd-acbb-3de9c4424b69 is not complete; Currently in state: JobStatus.RUNNING\n",
      "Job 22ccd35f-fd72-4ffd-acbb-3de9c4424b69 is not complete; Currently in state: JobStatus.RUNNING\n",
      "Job 22ccd35f-fd72-4ffd-acbb-3de9c4424b69 is not complete; Currently in state: JobStatus.RUNNING\n",
      "Job 22ccd35f-fd72-4ffd-acbb-3de9c4424b69 is not complete; Currently in state: JobStatus.RUNNING\n",
      "Job 22ccd35f-fd72-4ffd-acbb-3de9c4424b69 is not complete; Currently in state: JobStatus.RUNNING\n",
      "Job 22ccd35f-fd72-4ffd-acbb-3de9c4424b69 is not complete; Currently in state: JobStatus.RUNNING\n",
      "Job 22ccd35f-fd72-4ffd-acbb-3de9c4424b69 is not complete; Currently in state: JobStatus.RUNNING\n",
      "Job 22ccd35f-fd72-4ffd-acbb-3de9c4424b69 is not complete; Currently in state: JobStatus.RUNNING\n",
      "Job 22ccd35f-fd72-4ffd-acbb-3de9c4424b69 is not complete; Currently in state: JobStatus.RUNNING\n",
      "Job 22ccd35f-fd72-4ffd-acbb-3de9c4424b69 is not complete; Currently in state: JobStatus.RUNNING\n",
      "Job 22ccd35f-fd72-4ffd-acbb-3de9c4424b69 is not complete; Currently in state: JobStatus.RUNNING\n",
      "Job 22ccd35f-fd72-4ffd-acbb-3de9c4424b69 is not complete; Currently in state: JobStatus.RUNNING\n",
      "Job 22ccd35f-fd72-4ffd-acbb-3de9c4424b69 is not complete; Currently in state: JobStatus.RUNNING\n",
      "Job 22ccd35f-fd72-4ffd-acbb-3de9c4424b69 is not complete; Currently in state: JobStatus.RUNNING\n",
      "Job 22ccd35f-fd72-4ffd-acbb-3de9c4424b69 is not complete; Currently in state: JobStatus.RUNNING\n",
      "Job 22ccd35f-fd72-4ffd-acbb-3de9c4424b69 is not complete; Currently in state: JobStatus.RUNNING\n",
      "Job 22ccd35f-fd72-4ffd-acbb-3de9c4424b69 is not complete; Currently in state: JobStatus.RUNNING\n",
      "Job 22ccd35f-fd72-4ffd-acbb-3de9c4424b69 is not complete; Currently in state: JobStatus.RUNNING\n",
      "Job 22ccd35f-fd72-4ffd-acbb-3de9c4424b69 is not complete; Currently in state: JobStatus.RUNNING\n",
      "Job 22ccd35f-fd72-4ffd-acbb-3de9c4424b69 is not complete; Currently in state: JobStatus.RUNNING\n",
      "Job 22ccd35f-fd72-4ffd-acbb-3de9c4424b69 is not complete; Currently in state: JobStatus.RUNNING\n",
      "Job 22ccd35f-fd72-4ffd-acbb-3de9c4424b69 is not complete; Currently in state: JobStatus.RUNNING\n",
      "Job 22ccd35f-fd72-4ffd-acbb-3de9c4424b69 is not complete; Currently in state: JobStatus.RUNNING\n",
      "Job 22ccd35f-fd72-4ffd-acbb-3de9c4424b69 is not complete; Currently in state: JobStatus.RUNNING\n",
      "Job 22ccd35f-fd72-4ffd-acbb-3de9c4424b69 is not complete; Currently in state: JobStatus.RUNNING\n",
      "Job 22ccd35f-fd72-4ffd-acbb-3de9c4424b69 is not complete; Currently in state: JobStatus.RUNNING\n",
      "Job 22ccd35f-fd72-4ffd-acbb-3de9c4424b69 is not complete; Currently in state: JobStatus.RUNNING\n",
      "Job 22ccd35f-fd72-4ffd-acbb-3de9c4424b69 is not complete; Currently in state: JobStatus.RUNNING\n",
      "Job 22ccd35f-fd72-4ffd-acbb-3de9c4424b69 is not complete; Currently in state: JobStatus.RUNNING\n",
      "Job 22ccd35f-fd72-4ffd-acbb-3de9c4424b69 is not complete; Currently in state: JobStatus.RUNNING\n",
      "Job 22ccd35f-fd72-4ffd-acbb-3de9c4424b69 is not complete; Currently in state: JobStatus.RUNNING\n",
      "Job 22ccd35f-fd72-4ffd-acbb-3de9c4424b69 is not complete; Currently in state: JobStatus.RUNNING\n",
      "Job 22ccd35f-fd72-4ffd-acbb-3de9c4424b69 is not complete; Currently in state: JobStatus.RUNNING\n",
      "Job 22ccd35f-fd72-4ffd-acbb-3de9c4424b69 is not complete; Currently in state: JobStatus.RUNNING\n",
      "Job 22ccd35f-fd72-4ffd-acbb-3de9c4424b69 is not complete; Currently in state: JobStatus.RUNNING\n",
      "Job 22ccd35f-fd72-4ffd-acbb-3de9c4424b69 is not complete; Currently in state: JobStatus.RUNNING\n",
      "Job 22ccd35f-fd72-4ffd-acbb-3de9c4424b69 is not complete; Currently in state: JobStatus.RUNNING\n",
      "Job 22ccd35f-fd72-4ffd-acbb-3de9c4424b69 is not complete; Currently in state: JobStatus.RUNNING\n",
      "Job 22ccd35f-fd72-4ffd-acbb-3de9c4424b69 is not complete; Currently in state: JobStatus.RUNNING\n",
      "Job 22ccd35f-fd72-4ffd-acbb-3de9c4424b69 is not complete; Currently in state: JobStatus.RUNNING\n",
      "Job 22ccd35f-fd72-4ffd-acbb-3de9c4424b69 is not complete; Currently in state: JobStatus.RUNNING\n",
      "Job 22ccd35f-fd72-4ffd-acbb-3de9c4424b69 is not complete; Currently in state: JobStatus.RUNNING\n",
      "Job 22ccd35f-fd72-4ffd-acbb-3de9c4424b69 is not complete; Currently in state: JobStatus.RUNNING\n",
      "Job 22ccd35f-fd72-4ffd-acbb-3de9c4424b69 is not complete; Currently in state: JobStatus.RUNNING\n",
      "Job 22ccd35f-fd72-4ffd-acbb-3de9c4424b69 is not complete; Currently in state: JobStatus.RUNNING\n",
      "Job 22ccd35f-fd72-4ffd-acbb-3de9c4424b69 is not complete; Currently in state: JobStatus.RUNNING\n",
      "Job 22ccd35f-fd72-4ffd-acbb-3de9c4424b69 is not complete; Currently in state: JobStatus.RUNNING\n",
      "Job 22ccd35f-fd72-4ffd-acbb-3de9c4424b69 is not complete; Currently in state: JobStatus.RUNNING\n",
      "Job 22ccd35f-fd72-4ffd-acbb-3de9c4424b69 is not complete; Currently in state: JobStatus.RUNNING\n",
      "Job 22ccd35f-fd72-4ffd-acbb-3de9c4424b69 is not complete; Currently in state: JobStatus.RUNNING\n",
      "Job 22ccd35f-fd72-4ffd-acbb-3de9c4424b69 is not complete; Currently in state: JobStatus.RUNNING\n",
      "Job 22ccd35f-fd72-4ffd-acbb-3de9c4424b69 is not complete; Currently in state: JobStatus.RUNNING\n",
      "Job 22ccd35f-fd72-4ffd-acbb-3de9c4424b69 is not complete; Currently in state: JobStatus.RUNNING\n",
      "Job 22ccd35f-fd72-4ffd-acbb-3de9c4424b69 is not complete; Currently in state: JobStatus.RUNNING\n",
      "Job 22ccd35f-fd72-4ffd-acbb-3de9c4424b69 is not complete; Currently in state: JobStatus.RUNNING\n",
      "Job 22ccd35f-fd72-4ffd-acbb-3de9c4424b69 is not complete; Currently in state: JobStatus.RUNNING\n",
      "Job 22ccd35f-fd72-4ffd-acbb-3de9c4424b69 is not complete; Currently in state: JobStatus.RUNNING\n",
      "Job 22ccd35f-fd72-4ffd-acbb-3de9c4424b69 is not complete; Currently in state: JobStatus.RUNNING\n",
      "Job 22ccd35f-fd72-4ffd-acbb-3de9c4424b69 is not complete; Currently in state: JobStatus.RUNNING\n",
      "Job 22ccd35f-fd72-4ffd-acbb-3de9c4424b69 is not complete; Currently in state: JobStatus.RUNNING\n",
      "Job 22ccd35f-fd72-4ffd-acbb-3de9c4424b69 is not complete; Currently in state: JobStatus.RUNNING\n",
      "Job 22ccd35f-fd72-4ffd-acbb-3de9c4424b69 is not complete; Currently in state: JobStatus.RUNNING\n",
      "Job 22ccd35f-fd72-4ffd-acbb-3de9c4424b69 is not complete; Currently in state: JobStatus.RUNNING\n",
      "Job 22ccd35f-fd72-4ffd-acbb-3de9c4424b69 is not complete; Currently in state: JobStatus.RUNNING\n",
      "Job 22ccd35f-fd72-4ffd-acbb-3de9c4424b69 is not complete; Currently in state: JobStatus.RUNNING\n",
      "Job 22ccd35f-fd72-4ffd-acbb-3de9c4424b69 is not complete; Currently in state: JobStatus.RUNNING\n",
      "Job 22ccd35f-fd72-4ffd-acbb-3de9c4424b69 is not complete; Currently in state: JobStatus.RUNNING\n",
      "Job 22ccd35f-fd72-4ffd-acbb-3de9c4424b69 is not complete; Currently in state: JobStatus.RUNNING\n",
      "Job 22ccd35f-fd72-4ffd-acbb-3de9c4424b69 is not complete; Currently in state: JobStatus.RUNNING\n",
      "Job 22ccd35f-fd72-4ffd-acbb-3de9c4424b69 is not complete; Currently in state: JobStatus.RUNNING\n",
      "Job 22ccd35f-fd72-4ffd-acbb-3de9c4424b69 completed with status JobStatus.SUCCESSFUL\n"
     ]
    }
   ],
   "source": [
    "# Retrieve status and poll value until the job is complete\n",
    "status = job.get_status().status\n",
    "while status in [JobStatus.ACCEPTED, JobStatus.RUNNING]:\n",
    "    print(f\"Job {job.id} is not complete; Currently in state: {job.get_status().status}\")\n",
    "    time.sleep(5)    # Wait 5 seconds and query status again\n",
    "    status = job.get_status().status\n",
    "\n",
    "print(f\"Job {job.id} completed with status {job.get_status().status}\")"
   ]
  },
  {
   "cell_type": "markdown",
   "id": "b531990d-8afb-4d7a-9759-3a3304055b9f",
   "metadata": {},
   "source": [
    "## Display all jobs for a process"
   ]
  },
  {
   "cell_type": "code",
   "execution_count": 8,
   "id": "ae823803-05cf-420f-a8de-dd88157f7bfe",
   "metadata": {},
   "outputs": [
    {
     "name": "stdout",
     "output_type": "stream",
     "text": [
      "Total jobs: 1\n",
      "Job details: \n",
      "unity_sds_client.resources.Job(\n",
      "    id=\"22ccd35f-fd72-4ffd-acbb-3de9c4424b69\",\n",
      "    process=\"cwl_dag\",\n",
      "    status=\"successful\",\n",
      "    inputs=None\n",
      ")\n"
     ]
    }
   ],
   "source": [
    "jobs = process_service.get_jobs()\n",
    "\n",
    "print(f\"Total jobs: {len(jobs)}\")\n",
    "print(\"Job details: \")\n",
    "for job in jobs:\n",
    "    print(job)"
   ]
  },
  {
   "cell_type": "markdown",
   "id": "6e39ba85-a192-4ef7-bb54-c77df3cfb256",
   "metadata": {},
   "source": [
    "## Delete a job\n",
    "\n",
    "This will delete the job that was created and executed above and is stored in the `job` variable. You can also run this when a job is running to stop job execution and delete it."
   ]
  },
  {
   "cell_type": "code",
   "execution_count": 9,
   "id": "2875c57c-7383-4977-8cc0-b4d1ae14653d",
   "metadata": {},
   "outputs": [
    {
     "name": "stdout",
     "output_type": "stream",
     "text": [
      "unity_sds_client.resources.Job(\n",
      "    id=\"22ccd35f-fd72-4ffd-acbb-3de9c4424b69\",\n",
      "    process=\"cwl_dag\",\n",
      "    status=\"dismissed\",\n",
      "    inputs=None\n",
      ")\n"
     ]
    }
   ],
   "source": [
    "status = job.dismiss()\n",
    "print(status)"
   ]
  },
  {
   "cell_type": "code",
   "execution_count": 10,
   "id": "b2892ad5-68f7-4e92-b3ea-f60eba0491f6",
   "metadata": {},
   "outputs": [
    {
     "name": "stdout",
     "output_type": "stream",
     "text": [
      "Total jobs: 0\n"
     ]
    }
   ],
   "source": [
    "# Display all jobs\n",
    "jobs = process_service.get_jobs()\n",
    "print(f\"Total jobs: {len(jobs)}\")"
   ]
  },
  {
   "cell_type": "markdown",
   "id": "5235ba6d-70d6-47f2-8219-7b0e5c0982fa",
   "metadata": {},
   "source": [
    "## Registering a process (optional)\n",
    "\n",
    "You will need to register a process before it can be executed. You can make a request to register a new science algorithm, encoded as an Airflow DAG. The DAG (a Python program) needs to be checked in within the GitHub repository that was configured during the SPS deployment. In other words, the DAG author will check the latest version of the code into GitHub in the specified folder, and then they can make an HTTP request to the OGC Processes API to register that process for execution. \n",
    "\n",
    "Let's consider the following DAG: https://github.com/unity-sds/unity-sps/blob/develop/airflow/dags/cwl_dag.py. We will assume that your SPS deployment has been configured to monitor the GitHub repository https://github.com/unity-sds/unity-sps at the path \"airflow/dags\" in the brach \"main\".\n",
    "\n",
    "In order to register a process you will need to define a [process description](https://docs.ogc.org/is/18-062r2/18-062r2.html#toc37) which provides metadata that is used to register the process and execute jobs for that process."
   ]
  },
  {
   "cell_type": "markdown",
   "id": "5e9dea83-c9bb-4c3f-b586-a067878ce61f",
   "metadata": {},
   "source": [
    "### Define the process description as a Python dictionary"
   ]
  },
  {
   "cell_type": "code",
   "execution_count": 11,
   "id": "1b46ea0b-cb35-4725-94b8-e74c6258b1aa",
   "metadata": {},
   "outputs": [],
   "source": [
    "cwl_dag_process_description = {\n",
    "    \"executionUnit\": {\n",
    "        \"image\": \"ghcr.io/unity-sds/unity-sps/sps-docker-cwl:2.5.1\",\n",
    "        \"type\": \"docker\"\n",
    "    },\n",
    "    \"processDescription\": {\n",
    "        \"description\": \"This process executes any CWL workflow.\",\n",
    "        \"id\": \"cwl_dag\",\n",
    "        \"inputs\": {\n",
    "            \"cwl_args\": {\n",
    "                \"description\": \"The URL of the CWL workflow's YAML parameters file\",\n",
    "                \"maxOccurs\": 1,\n",
    "                \"minOccurs\": 1,\n",
    "                \"schema\": {\n",
    "                    \"format\": \"uri\",\n",
    "                    \"type\": \"string\"\n",
    "                },\n",
    "                \"title\": \"CWL Workflow Parameters URL\"\n",
    "            },\n",
    "            \"cwl_workflow\": {\n",
    "                \"description\": \"The URL of the CWL workflow\",\n",
    "                \"maxOccurs\": 1,\n",
    "                \"minOccurs\": 1,\n",
    "                \"schema\": {\n",
    "                    \"format\": \"uri\",\n",
    "                    \"type\": \"string\"\n",
    "                },\n",
    "                \"title\": \"CWL Workflow URL\"\n",
    "            },\n",
    "            \"request_instance_type\": {\n",
    "                \"description\": \"The specific EC2 instance type requested for the job\",\n",
    "                \"maxOccurs\": 1,\n",
    "                \"minOccurs\": 1,\n",
    "                \"schema\": {\n",
    "                    \"type\": \"string\"\n",
    "                },\n",
    "                \"title\": \"Requested EC2 Type\"\n",
    "            },\n",
    "            \"request_storage\": {\n",
    "                \"description\": \"The amount of storage requested for the job\",\n",
    "                \"maxOccurs\": 1,\n",
    "                \"minOccurs\": 1,\n",
    "                \"schema\": {\n",
    "                    \"type\": \"string\"\n",
    "                },\n",
    "                \"title\": \"Requested Storage\"\n",
    "            }\n",
    "        },\n",
    "        \"jobControlOptions\": [\n",
    "            \"async-execute\"\n",
    "        ],\n",
    "        \"outputs\": {\n",
    "            \"result\": {\n",
    "                \"description\": \"The result of the SBG Preprocess Workflow execution\",\n",
    "                \"schema\": {\n",
    "                    \"$ref\": \"some-ref\"\n",
    "                },\n",
    "                \"title\": \"Process Result\"\n",
    "            }\n",
    "        },\n",
    "        \"title\": \"Generic CWL Process\",\n",
    "        \"version\": \"1.0.0\"\n",
    "    }\n",
    "}\n",
    "    "
   ]
  },
  {
   "cell_type": "markdown",
   "id": "ab2853b5-1aee-4857-bffa-2cacc1d0ea7d",
   "metadata": {},
   "source": [
    "### Register the process\n",
    "\n",
    "Note this will throw an error if you try to register a process that has already been registered."
   ]
  },
  {
   "cell_type": "code",
   "execution_count": null,
   "id": "df4b5c85-0874-41d3-9761-b49b3e2fc9e6",
   "metadata": {},
   "outputs": [],
   "source": [
    "# Set up the Unity venue\n",
    "unity = Unity(UnityEnvironments.DEV)    # Enter Unity username and password\n",
    "unity.set_venue_id(\"\")   # Leave blank for now\n",
    "process_service = unity.client(UnityServices.PROCESS_SERVICE)\n",
    "process_service.endpoint = input(\"Please enter the URL for the OGC Processes API: \")\n",
    "\n",
    "# Register the process\n",
    "response = process_service.deploy_process(cwl_dag_process_description)\n",
    "print(f\"\\nRegistered process response: {response}\")\n",
    "\n",
    "# List all processes\n",
    "processes = process_service.get_processes()\n",
    "print(\"\\nAll registered processes: \")\n",
    "for process in processes:\n",
    "    print(process)"
   ]
  },
  {
   "cell_type": "markdown",
   "id": "c0788a57-8714-4ea8-854e-550a819a7826",
   "metadata": {},
   "source": [
    "## Deregister a process (optional)\n",
    "\n",
    "When you deregister a process it is removed from the SPS deployment. The `Unity-Py` library currently does not have a process for deregistering processes so you will need to use the `requests` library to preform a `DELETE` request."
   ]
  },
  {
   "cell_type": "code",
   "execution_count": null,
   "id": "a105b45f-b4da-43df-bfc6-83c91a814489",
   "metadata": {},
   "outputs": [],
   "source": [
    "# Set up the Unity venue\n",
    "unity = Unity(UnityEnvironments.DEV)    # Enter Unity username and password\n",
    "unity.set_venue_id(\"\")   # Leave blank for now\n",
    "process_service = unity.client(UnityServices.PROCESS_SERVICE)\n",
    "process_service.endpoint = input(\"Please enter the URL for the OGC Processes API: \")\n",
    "\n",
    "# List all processes\n",
    "processes = process_service.get_processes()\n",
    "print(\"All registered processes: \")\n",
    "for process in processes:\n",
    "    print(process)"
   ]
  },
  {
   "cell_type": "code",
   "execution_count": 15,
   "id": "a8b38e7f-f778-4580-abfa-7e13cee96f41",
   "metadata": {},
   "outputs": [
    {
     "name": "stdout",
     "output_type": "stream",
     "text": [
      "Deregistered process response: <Response [204]>\n"
     ]
    }
   ],
   "source": [
    "# Grab process \"id\" from above and submit a delete request\n",
    "response = requests.delete(f\"{process_service.endpoint}/processes/cwl_dag\")   # Entering id from process details above as the last element in the URL\n",
    "print(f\"Deregistered process response: {response}\")    # 204 indicates success"
   ]
  },
  {
   "cell_type": "code",
   "execution_count": null,
   "id": "cb1f7aab-bafa-46d9-ab55-402643421a2f",
   "metadata": {},
   "outputs": [],
   "source": []
  }
 ],
 "metadata": {
  "kernelspec": {
   "display_name": "Python [conda env:base] *",
   "language": "python",
   "name": "conda-base-py"
  },
  "language_info": {
   "codemirror_mode": {
    "name": "ipython",
    "version": 3
   },
   "file_extension": ".py",
   "mimetype": "text/x-python",
   "name": "python",
   "nbconvert_exporter": "python",
   "pygments_lexer": "ipython3",
   "version": "3.11.6"
  }
 },
 "nbformat": 4,
 "nbformat_minor": 5
}
