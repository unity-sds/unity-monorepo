{
 "cells": [
  {
   "cell_type": "code",
   "execution_count": 1,
   "id": "700eddd2-77af-4849-8343-3f0fef34ff73",
   "metadata": {
    "is_executing": true
   },
   "outputs": [],
   "source": [
    "import requests\n",
    "import time\n",
    "\n",
    "from datetime import datetime\n",
    "from IPython.display import JSON\n",
    "from ipywidgets import widgets\n",
    "\n",
    "from unity_sds_client.unity import Unity\n",
    "from unity_sds_client.unity_services import UnityServices\n",
    "from unity_sds_client.resources.job_status import JobStatus\n",
    "from unity_sds_client.unity import UnityEnvironments"
   ]
  },
  {
   "cell_type": "code",
   "execution_count": 2,
   "id": "4029cee7-9c5b-4ac1-bd54-45fb45be9397",
   "metadata": {},
   "outputs": [],
   "source": [
    "unity = Unity(UnityEnvironments.DEV)\n",
    "unity.set_venue_id(\"\")\n",
    "process_service = unity.client(UnityServices.PROCESS_SERVICE)"
   ]
  },
  {
   "cell_type": "code",
   "execution_count": 3,
   "id": "9d9f712d-6d80-4b27-a8dc-b12e3895ba59",
   "metadata": {},
   "outputs": [
    {
     "name": "stdin",
     "output_type": "stream",
     "text": [
      "Please enter the URL for the OGC Processes API:  http://unity-dev-httpd-alb-601260108.us-west-2.elb.amazonaws.com:8080/unity/dev/ogc\n"
     ]
    }
   ],
   "source": [
    "process_service.endpoint = input(\"Please enter the URL for the OGC Processes API: \")"
   ]
  },
  {
   "cell_type": "code",
   "execution_count": 4,
   "id": "865f0b16-c954-45a9-984a-953be93749a3",
   "metadata": {},
   "outputs": [],
   "source": [
    "procs = process_service.get_processes()"
   ]
  },
  {
   "cell_type": "code",
   "execution_count": 5,
   "id": "199331bb-0414-4846-a61a-0b43b1142924",
   "metadata": {},
   "outputs": [
    {
     "name": "stdout",
     "output_type": "stream",
     "text": [
      "unity_sds_client.resources.Process(\n",
      "    id=\"cwl_dag\",\n",
      "    process_version=\"1.0.0\"\n",
      "    title=\"Generic CWL Process\",\n",
      "    abstract=\"This process executes any CWL workflow.\",\n",
      "    keywords=\"None\"\n",
      ")\n",
      "unity_sds_client.resources.Process(\n",
      "    id=\"sbg_preprocess_cwl_dag\",\n",
      "    process_version=\"1.0.0\"\n",
      "    title=\"SBG Preprocess CWL Workflow\",\n",
      "    abstract=\"This process executes the SBG Preprocess Workflow using CWL.\",\n",
      "    keywords=\"None\"\n",
      ")\n",
      "unity_sds_client.resources.Process(\n",
      "    id=\"karpenter_test\",\n",
      "    process_version=\"1.0.0\"\n",
      "    title=\"Karpenter Test Process\",\n",
      "    abstract=\"This process tests Karpenter node provisioning with different instance types.\",\n",
      "    keywords=\"None\"\n",
      ")\n"
     ]
    }
   ],
   "source": [
    "for p in procs:\n",
    "    print(p)"
   ]
  },
  {
   "cell_type": "code",
   "execution_count": 6,
   "id": "399a8c39-a69b-49a8-b9b1-03de6b3bc62f",
   "metadata": {},
   "outputs": [],
   "source": [
    "process = process_service.get_process(\"cwl_dag\")"
   ]
  },
  {
   "cell_type": "code",
   "execution_count": 7,
   "id": "04dee225-aea0-4132-b427-dbd26085986e",
   "metadata": {},
   "outputs": [
    {
     "name": "stdout",
     "output_type": "stream",
     "text": [
      "unity_sds_client.resources.Process(\n",
      "    id=\"cwl_dag\",\n",
      "    process_version=\"1.0.0\"\n",
      "    title=\"Generic CWL Process\",\n",
      "    abstract=\"This process executes any CWL workflow.\",\n",
      "    keywords=\"None\"\n",
      ")\n"
     ]
    }
   ],
   "source": [
    "print(process)"
   ]
  },
  {
   "cell_type": "code",
   "execution_count": 9,
   "id": "667f1082-9ce1-473d-8e8e-f96deb974dab",
   "metadata": {},
   "outputs": [],
   "source": [
    "# import pprint\n",
    "# for key, value in process.inputs.items():\n",
    "#     print(key)\n",
    "#     pprint.pprint(value.model_dump())"
   ]
  },
  {
   "cell_type": "code",
   "execution_count": 10,
   "id": "f08adb26-822e-4e01-8ec1-fbb4eb58bd26",
   "metadata": {},
   "outputs": [],
   "source": [
    "data = {\n",
    "  \"inputs\": {\n",
    "    \"cwl_workflow\": \"https://raw.githubusercontent.com/unity-sds/sbg-workflows/main/preprocess/sbg-preprocess-workflow.cwl\",\n",
    "    \"cwl_args\": \"https://raw.githubusercontent.com/unity-sds/sbg-workflows/main/preprocess/sbg-preprocess-workflow.dev.yml\",\n",
    "    \"request_memory\": \"16Gi\",\n",
    "    \"request_cpu\": \"4\",\n",
    "    \"request_storage\": \"10Gi\"\n",
    "  },\n",
    "  \"outputs\": {\n",
    "    \"result\": {\n",
    "      \"transmissionMode\": \"reference\"\n",
    "    }\n",
    "  }\n",
    "}\n",
    "\n",
    "submitted_job = process.execute(data)"
   ]
  },
  {
   "cell_type": "code",
   "execution_count": 14,
   "id": "cc2e7fc1-0d54-45b3-9039-ce54d5336cd3",
   "metadata": {},
   "outputs": [],
   "source": [
    "# Here we submit the job. Currently we submit a dictionary with the required 'inputs', 'outputs','subcscriber' keys if needed\n",
    "# We need to focus on building out the process_inputs progrmatically.\n",
    "\n",
    "data = {\n",
    "  \"inputs\": {\n",
    "    \"cwl_workflow\": \"https://raw.githubusercontent.com/unity-sds/unity-sps-workflows/main/demos/echo_message.cwl\",\n",
    "    \"cwl_args\": \"{'message': 'Hello Godwin!'}\",\n",
    "    \"request_memory\": \"8Gi\",\n",
    "    \"request_cpu\": \"4\",\n",
    "    \"request_storage\": \"10Gi\"\n",
    "  },\n",
    "  \"outputs\": {\n",
    "    \"result\": {\n",
    "      \"transmissionMode\": \"reference\"\n",
    "    }\n",
    "  }\n",
    "}\n",
    "submitted_job = process.execute(data)"
   ]
  },
  {
   "cell_type": "code",
   "execution_count": 11,
   "id": "a18a5727-750c-4307-b77c-7389d4ccc0f4",
   "metadata": {
    "scrolled": true
   },
   "outputs": [
    {
     "name": "stdout",
     "output_type": "stream",
     "text": [
      "job f95593c2-2f50-4c51-92eb-919a5e9ba31e is not complete. Currently in state JobStatus.RUNNING \n",
      "job f95593c2-2f50-4c51-92eb-919a5e9ba31e is not complete. Currently in state JobStatus.RUNNING \n",
      "job f95593c2-2f50-4c51-92eb-919a5e9ba31e is not complete. Currently in state JobStatus.RUNNING \n",
      "job f95593c2-2f50-4c51-92eb-919a5e9ba31e is not complete. Currently in state JobStatus.RUNNING \n",
      "job f95593c2-2f50-4c51-92eb-919a5e9ba31e is not complete. Currently in state JobStatus.RUNNING \n",
      "job f95593c2-2f50-4c51-92eb-919a5e9ba31e is not complete. Currently in state JobStatus.RUNNING \n",
      "job f95593c2-2f50-4c51-92eb-919a5e9ba31e is not complete. Currently in state JobStatus.RUNNING \n",
      "job f95593c2-2f50-4c51-92eb-919a5e9ba31e is not complete. Currently in state JobStatus.RUNNING \n",
      "job f95593c2-2f50-4c51-92eb-919a5e9ba31e is not complete. Currently in state JobStatus.RUNNING \n",
      "job f95593c2-2f50-4c51-92eb-919a5e9ba31e is not complete. Currently in state JobStatus.RUNNING \n",
      "job f95593c2-2f50-4c51-92eb-919a5e9ba31e is not complete. Currently in state JobStatus.RUNNING \n",
      "job f95593c2-2f50-4c51-92eb-919a5e9ba31e is not complete. Currently in state JobStatus.RUNNING \n",
      "job f95593c2-2f50-4c51-92eb-919a5e9ba31e is not complete. Currently in state JobStatus.RUNNING \n",
      "job f95593c2-2f50-4c51-92eb-919a5e9ba31e is not complete. Currently in state JobStatus.RUNNING \n",
      "job f95593c2-2f50-4c51-92eb-919a5e9ba31e is not complete. Currently in state JobStatus.RUNNING \n",
      "job f95593c2-2f50-4c51-92eb-919a5e9ba31e is not complete. Currently in state JobStatus.RUNNING \n",
      "job f95593c2-2f50-4c51-92eb-919a5e9ba31e is not complete. Currently in state JobStatus.RUNNING \n",
      "job f95593c2-2f50-4c51-92eb-919a5e9ba31e is not complete. Currently in state JobStatus.RUNNING \n",
      "job f95593c2-2f50-4c51-92eb-919a5e9ba31e is not complete. Currently in state JobStatus.RUNNING \n",
      "job f95593c2-2f50-4c51-92eb-919a5e9ba31e is not complete. Currently in state JobStatus.RUNNING \n",
      "job f95593c2-2f50-4c51-92eb-919a5e9ba31e is not complete. Currently in state JobStatus.RUNNING \n",
      "job f95593c2-2f50-4c51-92eb-919a5e9ba31e is not complete. Currently in state JobStatus.RUNNING \n",
      "job f95593c2-2f50-4c51-92eb-919a5e9ba31e is not complete. Currently in state JobStatus.RUNNING \n",
      "job f95593c2-2f50-4c51-92eb-919a5e9ba31e is not complete. Currently in state JobStatus.RUNNING \n",
      "job f95593c2-2f50-4c51-92eb-919a5e9ba31e is not complete. Currently in state JobStatus.RUNNING \n",
      "job f95593c2-2f50-4c51-92eb-919a5e9ba31e is not complete. Currently in state JobStatus.RUNNING \n",
      "job f95593c2-2f50-4c51-92eb-919a5e9ba31e is not complete. Currently in state JobStatus.RUNNING \n",
      "job f95593c2-2f50-4c51-92eb-919a5e9ba31e is not complete. Currently in state JobStatus.RUNNING \n",
      "job f95593c2-2f50-4c51-92eb-919a5e9ba31e is not complete. Currently in state JobStatus.RUNNING \n",
      "job f95593c2-2f50-4c51-92eb-919a5e9ba31e is not complete. Currently in state JobStatus.RUNNING \n",
      "job f95593c2-2f50-4c51-92eb-919a5e9ba31e is not complete. Currently in state JobStatus.RUNNING \n",
      "job f95593c2-2f50-4c51-92eb-919a5e9ba31e is not complete. Currently in state JobStatus.RUNNING \n",
      "job f95593c2-2f50-4c51-92eb-919a5e9ba31e is not complete. Currently in state JobStatus.RUNNING \n",
      "job f95593c2-2f50-4c51-92eb-919a5e9ba31e is not complete. Currently in state JobStatus.RUNNING \n",
      "job f95593c2-2f50-4c51-92eb-919a5e9ba31e is not complete. Currently in state JobStatus.RUNNING \n",
      "job f95593c2-2f50-4c51-92eb-919a5e9ba31e is not complete. Currently in state JobStatus.RUNNING \n",
      "job f95593c2-2f50-4c51-92eb-919a5e9ba31e is not complete. Currently in state JobStatus.RUNNING \n",
      "job f95593c2-2f50-4c51-92eb-919a5e9ba31e is not complete. Currently in state JobStatus.RUNNING \n",
      "job f95593c2-2f50-4c51-92eb-919a5e9ba31e is not complete. Currently in state JobStatus.RUNNING \n",
      "job f95593c2-2f50-4c51-92eb-919a5e9ba31e is not complete. Currently in state JobStatus.RUNNING \n",
      "job f95593c2-2f50-4c51-92eb-919a5e9ba31e is not complete. Currently in state JobStatus.RUNNING \n",
      "job f95593c2-2f50-4c51-92eb-919a5e9ba31e is not complete. Currently in state JobStatus.RUNNING \n",
      "job f95593c2-2f50-4c51-92eb-919a5e9ba31e is not complete. Currently in state JobStatus.RUNNING \n",
      "job f95593c2-2f50-4c51-92eb-919a5e9ba31e is not complete. Currently in state JobStatus.RUNNING \n",
      "job f95593c2-2f50-4c51-92eb-919a5e9ba31e is not complete. Currently in state JobStatus.RUNNING \n",
      "job f95593c2-2f50-4c51-92eb-919a5e9ba31e is not complete. Currently in state JobStatus.RUNNING \n",
      "job f95593c2-2f50-4c51-92eb-919a5e9ba31e is not complete. Currently in state JobStatus.RUNNING \n",
      "job f95593c2-2f50-4c51-92eb-919a5e9ba31e is not complete. Currently in state JobStatus.RUNNING \n",
      "job f95593c2-2f50-4c51-92eb-919a5e9ba31e is not complete. Currently in state JobStatus.RUNNING \n",
      "job f95593c2-2f50-4c51-92eb-919a5e9ba31e is not complete. Currently in state JobStatus.RUNNING \n",
      "job f95593c2-2f50-4c51-92eb-919a5e9ba31e is not complete. Currently in state JobStatus.RUNNING \n",
      "job f95593c2-2f50-4c51-92eb-919a5e9ba31e is not complete. Currently in state JobStatus.RUNNING \n",
      "job f95593c2-2f50-4c51-92eb-919a5e9ba31e is not complete. Currently in state JobStatus.RUNNING \n",
      "job f95593c2-2f50-4c51-92eb-919a5e9ba31e is not complete. Currently in state JobStatus.RUNNING \n",
      "job f95593c2-2f50-4c51-92eb-919a5e9ba31e is not complete. Currently in state JobStatus.RUNNING \n",
      "job f95593c2-2f50-4c51-92eb-919a5e9ba31e is not complete. Currently in state JobStatus.RUNNING \n",
      "job f95593c2-2f50-4c51-92eb-919a5e9ba31e is not complete. Currently in state JobStatus.RUNNING \n",
      "job f95593c2-2f50-4c51-92eb-919a5e9ba31e is not complete. Currently in state JobStatus.RUNNING \n",
      "job f95593c2-2f50-4c51-92eb-919a5e9ba31e is not complete. Currently in state JobStatus.RUNNING \n",
      "job f95593c2-2f50-4c51-92eb-919a5e9ba31e is not complete. Currently in state JobStatus.RUNNING \n",
      "job f95593c2-2f50-4c51-92eb-919a5e9ba31e is not complete. Currently in state JobStatus.RUNNING \n",
      "job f95593c2-2f50-4c51-92eb-919a5e9ba31e is not complete. Currently in state JobStatus.RUNNING \n",
      "job f95593c2-2f50-4c51-92eb-919a5e9ba31e is not complete. Currently in state JobStatus.RUNNING \n",
      "job f95593c2-2f50-4c51-92eb-919a5e9ba31e is not complete. Currently in state JobStatus.RUNNING \n",
      "job f95593c2-2f50-4c51-92eb-919a5e9ba31e is not complete. Currently in state JobStatus.RUNNING \n",
      "job f95593c2-2f50-4c51-92eb-919a5e9ba31e is not complete. Currently in state JobStatus.RUNNING \n",
      "job f95593c2-2f50-4c51-92eb-919a5e9ba31e is not complete. Currently in state JobStatus.RUNNING \n",
      "job f95593c2-2f50-4c51-92eb-919a5e9ba31e is not complete. Currently in state JobStatus.RUNNING \n",
      "job f95593c2-2f50-4c51-92eb-919a5e9ba31e is not complete. Currently in state JobStatus.RUNNING \n",
      "job f95593c2-2f50-4c51-92eb-919a5e9ba31e is not complete. Currently in state JobStatus.RUNNING \n",
      "job f95593c2-2f50-4c51-92eb-919a5e9ba31e is not complete. Currently in state JobStatus.RUNNING \n",
      "job f95593c2-2f50-4c51-92eb-919a5e9ba31e is not complete. Currently in state JobStatus.RUNNING \n",
      "job f95593c2-2f50-4c51-92eb-919a5e9ba31e is not complete. Currently in state JobStatus.RUNNING \n",
      "job f95593c2-2f50-4c51-92eb-919a5e9ba31e is not complete. Currently in state JobStatus.RUNNING \n",
      "job f95593c2-2f50-4c51-92eb-919a5e9ba31e is not complete. Currently in state JobStatus.RUNNING \n",
      "job f95593c2-2f50-4c51-92eb-919a5e9ba31e is not complete. Currently in state JobStatus.RUNNING \n",
      "job f95593c2-2f50-4c51-92eb-919a5e9ba31e is not complete. Currently in state JobStatus.RUNNING \n",
      "job f95593c2-2f50-4c51-92eb-919a5e9ba31e is not complete. Currently in state JobStatus.RUNNING \n",
      "job f95593c2-2f50-4c51-92eb-919a5e9ba31e is not complete. Currently in state JobStatus.RUNNING \n",
      "job f95593c2-2f50-4c51-92eb-919a5e9ba31e is not complete. Currently in state JobStatus.RUNNING \n",
      "job f95593c2-2f50-4c51-92eb-919a5e9ba31e is not complete. Currently in state JobStatus.RUNNING \n",
      "job f95593c2-2f50-4c51-92eb-919a5e9ba31e is not complete. Currently in state JobStatus.RUNNING \n",
      "job f95593c2-2f50-4c51-92eb-919a5e9ba31e is not complete. Currently in state JobStatus.RUNNING \n",
      "job f95593c2-2f50-4c51-92eb-919a5e9ba31e is not complete. Currently in state JobStatus.RUNNING \n",
      "job f95593c2-2f50-4c51-92eb-919a5e9ba31e is not complete. Currently in state JobStatus.RUNNING \n",
      "job f95593c2-2f50-4c51-92eb-919a5e9ba31e is not complete. Currently in state JobStatus.RUNNING \n",
      "job f95593c2-2f50-4c51-92eb-919a5e9ba31e is not complete. Currently in state JobStatus.RUNNING \n",
      "job f95593c2-2f50-4c51-92eb-919a5e9ba31e is not complete. Currently in state JobStatus.RUNNING \n",
      "job f95593c2-2f50-4c51-92eb-919a5e9ba31e is not complete. Currently in state JobStatus.RUNNING \n",
      "job f95593c2-2f50-4c51-92eb-919a5e9ba31e is not complete. Currently in state JobStatus.RUNNING \n",
      "job f95593c2-2f50-4c51-92eb-919a5e9ba31e is not complete. Currently in state JobStatus.RUNNING \n",
      "job f95593c2-2f50-4c51-92eb-919a5e9ba31e is not complete. Currently in state JobStatus.RUNNING \n",
      "job f95593c2-2f50-4c51-92eb-919a5e9ba31e is not complete. Currently in state JobStatus.RUNNING \n",
      "job f95593c2-2f50-4c51-92eb-919a5e9ba31e is not complete. Currently in state JobStatus.RUNNING \n",
      "job f95593c2-2f50-4c51-92eb-919a5e9ba31e is not complete. Currently in state JobStatus.RUNNING \n",
      "job f95593c2-2f50-4c51-92eb-919a5e9ba31e is not complete. Currently in state JobStatus.RUNNING \n",
      "job f95593c2-2f50-4c51-92eb-919a5e9ba31e is not complete. Currently in state JobStatus.RUNNING \n",
      "job f95593c2-2f50-4c51-92eb-919a5e9ba31e is not complete. Currently in state JobStatus.RUNNING \n",
      "job f95593c2-2f50-4c51-92eb-919a5e9ba31e is not complete. Currently in state JobStatus.RUNNING \n",
      "job f95593c2-2f50-4c51-92eb-919a5e9ba31e is not complete. Currently in state JobStatus.RUNNING \n",
      "job f95593c2-2f50-4c51-92eb-919a5e9ba31e is not complete. Currently in state JobStatus.RUNNING \n",
      "job f95593c2-2f50-4c51-92eb-919a5e9ba31e is not complete. Currently in state JobStatus.RUNNING \n",
      "job f95593c2-2f50-4c51-92eb-919a5e9ba31e is not complete. Currently in state JobStatus.RUNNING \n",
      "job f95593c2-2f50-4c51-92eb-919a5e9ba31e is not complete. Currently in state JobStatus.RUNNING \n",
      "job f95593c2-2f50-4c51-92eb-919a5e9ba31e is not complete. Currently in state JobStatus.RUNNING \n",
      "job f95593c2-2f50-4c51-92eb-919a5e9ba31e is not complete. Currently in state JobStatus.RUNNING \n",
      "job f95593c2-2f50-4c51-92eb-919a5e9ba31e is not complete. Currently in state JobStatus.RUNNING \n",
      "job f95593c2-2f50-4c51-92eb-919a5e9ba31e is not complete. Currently in state JobStatus.RUNNING \n",
      "job f95593c2-2f50-4c51-92eb-919a5e9ba31e is not complete. Currently in state JobStatus.RUNNING \n",
      "job f95593c2-2f50-4c51-92eb-919a5e9ba31e is not complete. Currently in state JobStatus.RUNNING \n",
      "job f95593c2-2f50-4c51-92eb-919a5e9ba31e is not complete. Currently in state JobStatus.RUNNING \n",
      "job f95593c2-2f50-4c51-92eb-919a5e9ba31e is not complete. Currently in state JobStatus.RUNNING \n",
      "job f95593c2-2f50-4c51-92eb-919a5e9ba31e is not complete. Currently in state JobStatus.RUNNING \n",
      "job f95593c2-2f50-4c51-92eb-919a5e9ba31e is not complete. Currently in state JobStatus.RUNNING \n",
      "job f95593c2-2f50-4c51-92eb-919a5e9ba31e is not complete. Currently in state JobStatus.RUNNING \n",
      "job f95593c2-2f50-4c51-92eb-919a5e9ba31e is not complete. Currently in state JobStatus.RUNNING \n",
      "job f95593c2-2f50-4c51-92eb-919a5e9ba31e is not complete. Currently in state JobStatus.RUNNING \n",
      "job f95593c2-2f50-4c51-92eb-919a5e9ba31e is not complete. Currently in state JobStatus.RUNNING \n",
      "job f95593c2-2f50-4c51-92eb-919a5e9ba31e is not complete. Currently in state JobStatus.RUNNING \n",
      "job f95593c2-2f50-4c51-92eb-919a5e9ba31e is not complete. Currently in state JobStatus.RUNNING \n",
      "job f95593c2-2f50-4c51-92eb-919a5e9ba31e is not complete. Currently in state JobStatus.RUNNING \n",
      "job f95593c2-2f50-4c51-92eb-919a5e9ba31e is not complete. Currently in state JobStatus.RUNNING \n",
      "job f95593c2-2f50-4c51-92eb-919a5e9ba31e is not complete. Currently in state JobStatus.RUNNING \n",
      "job f95593c2-2f50-4c51-92eb-919a5e9ba31e is not complete. Currently in state JobStatus.RUNNING \n",
      "job f95593c2-2f50-4c51-92eb-919a5e9ba31e is not complete. Currently in state JobStatus.RUNNING \n",
      "job f95593c2-2f50-4c51-92eb-919a5e9ba31e is not complete. Currently in state JobStatus.RUNNING \n",
      "job f95593c2-2f50-4c51-92eb-919a5e9ba31e is not complete. Currently in state JobStatus.RUNNING \n",
      "job f95593c2-2f50-4c51-92eb-919a5e9ba31e is not complete. Currently in state JobStatus.RUNNING \n",
      "job f95593c2-2f50-4c51-92eb-919a5e9ba31e is not complete. Currently in state JobStatus.RUNNING \n",
      "job f95593c2-2f50-4c51-92eb-919a5e9ba31e is not complete. Currently in state JobStatus.RUNNING \n",
      "job f95593c2-2f50-4c51-92eb-919a5e9ba31e is not complete. Currently in state JobStatus.RUNNING \n",
      "job f95593c2-2f50-4c51-92eb-919a5e9ba31e is not complete. Currently in state JobStatus.RUNNING \n",
      "job f95593c2-2f50-4c51-92eb-919a5e9ba31e is not complete. Currently in state JobStatus.RUNNING \n",
      "job f95593c2-2f50-4c51-92eb-919a5e9ba31e is not complete. Currently in state JobStatus.RUNNING \n",
      "job f95593c2-2f50-4c51-92eb-919a5e9ba31e is not complete. Currently in state JobStatus.RUNNING \n",
      "Job f95593c2-2f50-4c51-92eb-919a5e9ba31e completed with status JobStatus.SUCCESSFUL\n"
     ]
    }
   ],
   "source": [
    "import time\n",
    "\n",
    "status = submitted_job.get_status().status\n",
    "while status in [JobStatus.ACCEPTED, JobStatus.RUNNING]:\n",
    "    print(\"job {} is not complete. Currently in state {} \".format(submitted_job.id, submitted_job.get_status().status))\n",
    "    time.sleep(5)\n",
    "    status = submitted_job.get_status().status\n",
    "\n",
    "print(\"Job {} completed with status {}\".format(submitted_job.id, str(submitted_job.get_status().status)))"
   ]
  },
  {
   "cell_type": "code",
   "execution_count": 12,
   "id": "ce1ae133-4a84-434e-b0b9-defbab57af9a",
   "metadata": {},
   "outputs": [
    {
     "data": {
      "text/plain": [
       "{}"
      ]
     },
     "execution_count": 12,
     "metadata": {},
     "output_type": "execute_result"
    }
   ],
   "source": [
    "submitted_job.get_result()"
   ]
  },
  {
   "cell_type": "code",
   "execution_count": 42,
   "id": "2875c57c-7383-4977-8cc0-b4d1ae14653d",
   "metadata": {},
   "outputs": [
    {
     "name": "stdout",
     "output_type": "stream",
     "text": [
      "unity_sds_client.resources.Job(\n",
      "    id=\"07f019a0-4689-4a19-b1f4-b39b97ad918f\",\n",
      "    process=\"cwl_dag\",\n",
      "    status=\"dismissed\",\n",
      "    inputs=None\n",
      ")\n"
     ]
    }
   ],
   "source": [
    "status = submitted_job.dismiss()\n",
    "print(status)"
   ]
  },
  {
   "cell_type": "code",
   "execution_count": 15,
   "id": "ae823803-05cf-420f-a8de-dd88157f7bfe",
   "metadata": {},
   "outputs": [],
   "source": [
    "jobs = process_service.get_jobs()"
   ]
  },
  {
   "cell_type": "code",
   "execution_count": 16,
   "id": "af2caec6-f393-433f-86ba-24b178bdef12",
   "metadata": {},
   "outputs": [
    {
     "name": "stdout",
     "output_type": "stream",
     "text": [
      "unity_sds_client.resources.Job(\n",
      "    id=\"9cc061b4-a7dc-46ab-b01b-20bb2a5208bd\",\n",
      "    process=\"cwl_dag\",\n",
      "    status=\"running\",\n",
      "    inputs=None\n",
      ")\n",
      "unity_sds_client.resources.Job(\n",
      "    id=\"f95593c2-2f50-4c51-92eb-919a5e9ba31e\",\n",
      "    process=\"cwl_dag\",\n",
      "    status=\"successful\",\n",
      "    inputs=None\n",
      ")\n"
     ]
    }
   ],
   "source": [
    "for j in jobs:\n",
    "    print(j)"
   ]
  },
  {
   "cell_type": "code",
   "execution_count": null,
   "id": "d524b977-41f3-40fd-b563-9baf4746ce12",
   "metadata": {},
   "outputs": [],
   "source": []
  }
 ],
 "metadata": {
  "kernelspec": {
   "display_name": "Python 3 (ipykernel)",
   "language": "python",
   "name": "python3"
  },
  "language_info": {
   "codemirror_mode": {
    "name": "ipython",
    "version": 3
   },
   "file_extension": ".py",
   "mimetype": "text/x-python",
   "name": "python",
   "nbconvert_exporter": "python",
   "pygments_lexer": "ipython3",
   "version": "3.12.4"
  }
 },
 "nbformat": 4,
 "nbformat_minor": 5
}
