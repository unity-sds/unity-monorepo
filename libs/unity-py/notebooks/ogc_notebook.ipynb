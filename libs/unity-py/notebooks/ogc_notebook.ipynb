{
 "cells": [
  {
   "cell_type": "code",
   "execution_count": 1,
   "id": "700eddd2-77af-4849-8343-3f0fef34ff73",
   "metadata": {
    "is_executing": true
   },
   "outputs": [],
   "source": [
    "import requests\n",
    "import time\n",
    "\n",
    "from datetime import datetime\n",
    "from IPython.display import JSON\n",
    "\n",
    "from unity_sds_client.unity import Unity\n",
    "from unity_sds_client.unity_services import UnityServices\n",
    "from unity_sds_client.resources.job_status import JobStatus\n",
    "from unity_sds_client.unity import UnityEnvironments"
   ]
  },
  {
   "cell_type": "code",
   "execution_count": 2,
   "id": "4029cee7-9c5b-4ac1-bd54-45fb45be9397",
   "metadata": {},
   "outputs": [
    {
     "name": "stdin",
     "output_type": "stream",
     "text": [
      "Please enter your Unity username:  drewm\n",
      "Please enter your Unity password:  ········\n"
     ]
    }
   ],
   "source": [
    "unity = Unity(UnityEnvironments.DEV)\n",
    "unity.set_venue_id(\"\")\n",
    "process_service = unity.client(UnityServices.PROCESS_SERVICE)"
   ]
  },
  {
   "cell_type": "code",
   "execution_count": 3,
   "id": "9d9f712d-6d80-4b27-a8dc-b12e3895ba59",
   "metadata": {},
   "outputs": [],
   "source": [
    "process_service.endpoint = \"http://k8s-sps-ogcproce-b59e4702b8-2034669822.us-west-2.elb.amazonaws.com:5001\""
   ]
  },
  {
   "cell_type": "code",
   "execution_count": 24,
   "id": "865f0b16-c954-45a9-984a-953be93749a3",
   "metadata": {},
   "outputs": [],
   "source": [
    "procs = process_service.get_processes()"
   ]
  },
  {
   "cell_type": "code",
   "execution_count": 25,
   "id": "199331bb-0414-4846-a61a-0b43b1142924",
   "metadata": {},
   "outputs": [
    {
     "name": "stdout",
     "output_type": "stream",
     "text": [
      "unity_sds_client.resources.Process(\n",
      "    id=\"cwl_dag\",\n",
      "    process_version=\"1.0.0\"\n",
      "    title=\"Generic CWL Process\",\n",
      "    abstract=\"This process executes any CWL workflow.\",\n",
      "    keywords=\"None\"\n",
      ")\n"
     ]
    }
   ],
   "source": [
    "for p in procs:\n",
    "    print(p)"
   ]
  },
  {
   "cell_type": "code",
   "execution_count": 26,
   "id": "399a8c39-a69b-49a8-b9b1-03de6b3bc62f",
   "metadata": {},
   "outputs": [],
   "source": [
    "process = process_service.get_process(\"cwl_dag\")"
   ]
  },
  {
   "cell_type": "code",
   "execution_count": 27,
   "id": "04dee225-aea0-4132-b427-dbd26085986e",
   "metadata": {},
   "outputs": [
    {
     "name": "stdout",
     "output_type": "stream",
     "text": [
      "unity_sds_client.resources.Process(\n",
      "    id=\"cwl_dag\",\n",
      "    process_version=\"1.0.0\"\n",
      "    title=\"Generic CWL Process\",\n",
      "    abstract=\"This process executes any CWL workflow.\",\n",
      "    keywords=\"None\"\n",
      ")\n"
     ]
    }
   ],
   "source": [
    "print(process)"
   ]
  },
  {
   "cell_type": "code",
   "execution_count": 28,
   "id": "667f1082-9ce1-473d-8e8e-f96deb974dab",
   "metadata": {},
   "outputs": [],
   "source": [
    "# import pprint\n",
    "# for key, value in process.inputs.items():\n",
    "#     print(key)\n",
    "#     pprint.pprint(value.model_dump())"
   ]
  },
  {
   "cell_type": "code",
   "execution_count": 29,
   "id": "4057003a-ccec-4321-8c12-404d7ff1275a",
   "metadata": {},
   "outputs": [],
   "source": [
    "# Here we submit the job. Currently we submit a dictionary with the required 'inputs', 'outputs','subcscriber' keys if needed\n",
    "# We need to focus on building out the process_inputs progrmatically.\n",
    "\n",
    "data = {\n",
    "  \"inputs\": {\n",
    "    \"cwl_workflow\": \"https://raw.githubusercontent.com/unity-sds/unity-sps-workflows/main/demos/echo_message.cwl\",\n",
    "    \"cwl_args\": \"https://raw.githubusercontent.com/unity-sds/unity-sps-workflows/main/demos/echo_message.yaml\",\n",
    "    \"request_memory\": \"8Gi\",\n",
    "    \"request_cpu\": \"4\",\n",
    "    \"request_storage\": \"10Gi\"\n",
    "  },\n",
    "  \"outputs\": {\n",
    "    \"result\": {\n",
    "      \"transmissionMode\": \"reference\"\n",
    "    }\n",
    "  }\n",
    "}\n",
    "submitted_job = process.execute(data)"
   ]
  },
  {
   "cell_type": "code",
   "execution_count": 39,
   "id": "f08adb26-822e-4e01-8ec1-fbb4eb58bd26",
   "metadata": {},
   "outputs": [],
   "source": [
    "data = {\n",
    "  \"inputs\": {\n",
    "    \"cwl_workflow\": \"https://raw.githubusercontent.com/unity-sds/sbg-workflows/main/preprocess/sbg-preprocess-workflow.cwl\",\n",
    "    \"cwl_args\": \"https://raw.githubusercontent.com/unity-sds/sbg-workflows/main/preprocess/sbg-preprocess-workflow.dev.yml\",\n",
    "    \"request_memory\": \"8Gi\",\n",
    "    \"request_cpu\": \"4\",\n",
    "    \"request_storage\": \"10Gi\"\n",
    "  },\n",
    "  \"outputs\": {\n",
    "    \"result\": {\n",
    "      \"transmissionMode\": \"reference\"\n",
    "    }\n",
    "  }\n",
    "}\n",
    "\n",
    "submitted_job = process.execute(data)"
   ]
  },
  {
   "cell_type": "code",
   "execution_count": 40,
   "id": "a18a5727-750c-4307-b77c-7389d4ccc0f4",
   "metadata": {},
   "outputs": [
    {
     "name": "stdout",
     "output_type": "stream",
     "text": [
      "Job 07f019a0-4689-4a19-b1f4-b39b97ad918f completed with status JobStatus.FAILED\n"
     ]
    }
   ],
   "source": [
    "import time\n",
    "\n",
    "status = submitted_job.get_status().status\n",
    "while status in [JobStatus.ACCEPTED, JobStatus.RUNNING]:\n",
    "    print(\"job {} is not complete. Currently in state {} \".format(submitted_job.id, submitted_job.get_status().status))\n",
    "    time.sleep(5)\n",
    "    status = submitted_job.get_status().status\n",
    "\n",
    "print(\"Job {} completed with status {}\".format(submitted_job.id, str(submitted_job.get_status().status)))"
   ]
  },
  {
   "cell_type": "code",
   "execution_count": 41,
   "id": "ce1ae133-4a84-434e-b0b9-defbab57af9a",
   "metadata": {},
   "outputs": [
    {
     "data": {
      "text/plain": [
       "{}"
      ]
     },
     "execution_count": 41,
     "metadata": {},
     "output_type": "execute_result"
    }
   ],
   "source": [
    "submitted_job.get_result()"
   ]
  },
  {
   "cell_type": "code",
   "execution_count": 42,
   "id": "2875c57c-7383-4977-8cc0-b4d1ae14653d",
   "metadata": {},
   "outputs": [
    {
     "name": "stdout",
     "output_type": "stream",
     "text": [
      "unity_sds_client.resources.Job(\n",
      "    id=\"07f019a0-4689-4a19-b1f4-b39b97ad918f\",\n",
      "    process=\"cwl_dag\",\n",
      "    status=\"dismissed\",\n",
      "    inputs=None\n",
      ")\n"
     ]
    }
   ],
   "source": [
    "status = submitted_job.dismiss()\n",
    "print(status)"
   ]
  },
  {
   "cell_type": "code",
   "execution_count": 46,
   "id": "ae823803-05cf-420f-a8de-dd88157f7bfe",
   "metadata": {},
   "outputs": [],
   "source": [
    "jobs = process_service.get_jobs()"
   ]
  },
  {
   "cell_type": "code",
   "execution_count": 44,
   "id": "af2caec6-f393-433f-86ba-24b178bdef12",
   "metadata": {},
   "outputs": [
    {
     "name": "stdout",
     "output_type": "stream",
     "text": [
      "unity_sds_client.resources.Job(\n",
      "    id=\"e1821394-e31f-42c5-9637-07496a207ebf\",\n",
      "    process=\"cwl_dag\",\n",
      "    status=\"accepted\",\n",
      "    inputs=None\n",
      ")\n",
      "unity_sds_client.resources.Job(\n",
      "    id=\"fb1f5df1-916e-4344-a6e7-14ff49ee8a66\",\n",
      "    process=\"cwl_dag\",\n",
      "    status=\"accepted\",\n",
      "    inputs=None\n",
      ")\n",
      "unity_sds_client.resources.Job(\n",
      "    id=\"56ceb552-e100-4ed4-a270-32adbdf71cf9\",\n",
      "    process=\"cwl_dag\",\n",
      "    status=\"accepted\",\n",
      "    inputs=None\n",
      ")\n",
      "unity_sds_client.resources.Job(\n",
      "    id=\"4600b598-4961-4252-9744-ffca5c886c1b\",\n",
      "    process=\"cwl_dag\",\n",
      "    status=\"accepted\",\n",
      "    inputs=None\n",
      ")\n",
      "unity_sds_client.resources.Job(\n",
      "    id=\"9db56c05-ce88-4d13-895e-797f842d6672\",\n",
      "    process=\"cwl_dag\",\n",
      "    status=\"accepted\",\n",
      "    inputs=None\n",
      ")\n",
      "unity_sds_client.resources.Job(\n",
      "    id=\"2cfa3efa-c13e-4dda-ad55-c53eeb8ca06e\",\n",
      "    process=\"cwl_dag\",\n",
      "    status=\"accepted\",\n",
      "    inputs=None\n",
      ")\n",
      "unity_sds_client.resources.Job(\n",
      "    id=\"2caffa01-da12-4538-a40a-833a201313ef\",\n",
      "    process=\"cwl_dag\",\n",
      "    status=\"accepted\",\n",
      "    inputs=None\n",
      ")\n",
      "unity_sds_client.resources.Job(\n",
      "    id=\"362b3100-64a8-42f8-ae66-e816e050fd74\",\n",
      "    process=\"cwl_dag\",\n",
      "    status=\"accepted\",\n",
      "    inputs=None\n",
      ")\n",
      "unity_sds_client.resources.Job(\n",
      "    id=\"6e4e953b-80de-44a4-9ba2-e4780d6c25d0\",\n",
      "    process=\"cwl_dag\",\n",
      "    status=\"accepted\",\n",
      "    inputs=None\n",
      ")\n",
      "unity_sds_client.resources.Job(\n",
      "    id=\"ccfc8a66-8cc8-419c-8187-289353ccaa4a\",\n",
      "    process=\"cwl_dag\",\n",
      "    status=\"accepted\",\n",
      "    inputs=None\n",
      ")\n",
      "unity_sds_client.resources.Job(\n",
      "    id=\"6eb4ad16-6c08-4c06-ba85-f508a01fe561\",\n",
      "    process=\"cwl_dag\",\n",
      "    status=\"accepted\",\n",
      "    inputs=None\n",
      ")\n",
      "unity_sds_client.resources.Job(\n",
      "    id=\"55356a79-5165-41b7-82a4-6dd504060dac\",\n",
      "    process=\"cwl_dag\",\n",
      "    status=\"accepted\",\n",
      "    inputs=None\n",
      ")\n",
      "unity_sds_client.resources.Job(\n",
      "    id=\"388ecf36-75df-4564-8856-9d221beb1d85\",\n",
      "    process=\"cwl_dag\",\n",
      "    status=\"accepted\",\n",
      "    inputs=None\n",
      ")\n",
      "unity_sds_client.resources.Job(\n",
      "    id=\"749ace55-5581-446b-9c8e-fb085352f32a\",\n",
      "    process=\"cwl_dag\",\n",
      "    status=\"accepted\",\n",
      "    inputs=None\n",
      ")\n",
      "unity_sds_client.resources.Job(\n",
      "    id=\"5eca3329-7f2c-42a2-86e8-f89dbc453b1d\",\n",
      "    process=\"cwl_dag\",\n",
      "    status=\"accepted\",\n",
      "    inputs=None\n",
      ")\n",
      "unity_sds_client.resources.Job(\n",
      "    id=\"84e50527-6d8e-43ad-b05e-3187637d3df7\",\n",
      "    process=\"cwl_dag\",\n",
      "    status=\"accepted\",\n",
      "    inputs=None\n",
      ")\n",
      "unity_sds_client.resources.Job(\n",
      "    id=\"46dc76d8-94e9-4996-869a-f7c6c6d11d38\",\n",
      "    process=\"cwl_dag\",\n",
      "    status=\"accepted\",\n",
      "    inputs=None\n",
      ")\n",
      "unity_sds_client.resources.Job(\n",
      "    id=\"14c2c766-9574-422d-a3a7-0358dba8be3a\",\n",
      "    process=\"cwl_dag\",\n",
      "    status=\"accepted\",\n",
      "    inputs=None\n",
      ")\n",
      "unity_sds_client.resources.Job(\n",
      "    id=\"9debb87a-ef44-4525-987e-eaa0c920c7e3\",\n",
      "    process=\"cwl_dag\",\n",
      "    status=\"accepted\",\n",
      "    inputs=None\n",
      ")\n",
      "unity_sds_client.resources.Job(\n",
      "    id=\"126d3595-4dc5-4c4f-b7b6-a020f00d635a\",\n",
      "    process=\"cwl_dag\",\n",
      "    status=\"accepted\",\n",
      "    inputs=None\n",
      ")\n",
      "unity_sds_client.resources.Job(\n",
      "    id=\"1d643333-f8b0-4a91-b3e5-2d266dc01f40\",\n",
      "    process=\"cwl_dag\",\n",
      "    status=\"accepted\",\n",
      "    inputs=None\n",
      ")\n",
      "unity_sds_client.resources.Job(\n",
      "    id=\"6df86f8a-569d-4b8e-8c54-64c662df93e8\",\n",
      "    process=\"cwl_dag\",\n",
      "    status=\"accepted\",\n",
      "    inputs=None\n",
      ")\n",
      "unity_sds_client.resources.Job(\n",
      "    id=\"9974e9dc-994d-418e-95a6-951cfe811b4d\",\n",
      "    process=\"cwl_dag\",\n",
      "    status=\"failed\",\n",
      "    inputs=None\n",
      ")\n",
      "unity_sds_client.resources.Job(\n",
      "    id=\"68cbd1d9-59d1-4e6d-9cad-7f9bb22cf03d\",\n",
      "    process=\"cwl_dag\",\n",
      "    status=\"accepted\",\n",
      "    inputs=None\n",
      ")\n",
      "unity_sds_client.resources.Job(\n",
      "    id=\"fae566d0-dc17-461e-9b8e-12d7e259f3b3\",\n",
      "    process=\"cwl_dag\",\n",
      "    status=\"accepted\",\n",
      "    inputs=None\n",
      ")\n",
      "unity_sds_client.resources.Job(\n",
      "    id=\"0073ff64-3315-49a4-b41f-7d4310e7c9be\",\n",
      "    process=\"cwl_dag\",\n",
      "    status=\"accepted\",\n",
      "    inputs=None\n",
      ")\n",
      "unity_sds_client.resources.Job(\n",
      "    id=\"df16615f-dc2d-4959-84ef-9217f5b631f4\",\n",
      "    process=\"cwl_dag\",\n",
      "    status=\"accepted\",\n",
      "    inputs=None\n",
      ")\n",
      "unity_sds_client.resources.Job(\n",
      "    id=\"9eff909f-1941-42a4-ab92-98579fbe0cdf\",\n",
      "    process=\"cwl_dag\",\n",
      "    status=\"accepted\",\n",
      "    inputs=None\n",
      ")\n"
     ]
    }
   ],
   "source": [
    "for j in jobs:\n",
    "    print(j)"
   ]
  },
  {
   "cell_type": "code",
   "execution_count": null,
   "id": "d524b977-41f3-40fd-b563-9baf4746ce12",
   "metadata": {},
   "outputs": [],
   "source": []
  }
 ],
 "metadata": {
  "kernelspec": {
   "display_name": "unity-monorepo",
   "language": "python",
   "name": "unity-monorepo"
  },
  "language_info": {
   "codemirror_mode": {
    "name": "ipython",
    "version": 3
   },
   "file_extension": ".py",
   "mimetype": "text/x-python",
   "name": "python",
   "nbconvert_exporter": "python",
   "pygments_lexer": "ipython3",
   "version": "3.12.0"
  }
 },
 "nbformat": 4,
 "nbformat_minor": 5
}
