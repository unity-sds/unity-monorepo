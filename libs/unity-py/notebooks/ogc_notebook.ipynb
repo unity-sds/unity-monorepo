{
 "cells": [
  {
   "cell_type": "code",
   "execution_count": 76,
   "id": "700eddd2-77af-4849-8343-3f0fef34ff73",
   "metadata": {
    "is_executing": true
   },
   "outputs": [],
   "source": [
    "import requests\n",
    "import time\n",
    "\n",
    "from datetime import datetime\n",
    "from IPython.display import JSON\n",
    "\n",
    "from unity_sds_client.unity import Unity\n",
    "from unity_sds_client.unity_services import UnityServices\n",
    "from unity_sds_client.resources.job_status import JobStatus\n",
    "from unity_sds_client.unity import UnityEnvironments"
   ]
  },
  {
   "cell_type": "code",
   "execution_count": 77,
   "id": "4029cee7-9c5b-4ac1-bd54-45fb45be9397",
   "metadata": {},
   "outputs": [
    {
     "name": "stdin",
     "output_type": "stream",
     "text": [
      "Please enter your Unity username:  drewm\n",
      "Please enter your Unity password:  ········\n"
     ]
    }
   ],
   "source": [
    "unity = Unity(UnityEnvironments.DEV)\n",
    "unity.set_venue_id(\"\")\n",
    "process_service = unity.client(UnityServices.PROCESS_SERVICE)"
   ]
  },
  {
   "cell_type": "code",
   "execution_count": 78,
   "id": "9d9f712d-6d80-4b27-a8dc-b12e3895ba59",
   "metadata": {},
   "outputs": [],
   "source": [
    "process_service.endpoint = \"http://k8s-sps-ogcproce-b59e4702b8-1327377322.us-west-2.elb.amazonaws.com:5001\""
   ]
  },
  {
   "cell_type": "code",
   "execution_count": 79,
   "id": "865f0b16-c954-45a9-984a-953be93749a3",
   "metadata": {},
   "outputs": [],
   "source": [
    "procs = process_service.get_processes()"
   ]
  },
  {
   "cell_type": "code",
   "execution_count": 80,
   "id": "199331bb-0414-4846-a61a-0b43b1142924",
   "metadata": {},
   "outputs": [
    {
     "name": "stdout",
     "output_type": "stream",
     "text": [
      "unity_sds_client.resources.Process(\n",
      "    id=\"cwl_dag\",\n",
      "    process_version=\"1.0.0\"\n",
      "    title=\"Generic CWL Process\",\n",
      "    abstract=\"This process executes any CWL workflow.\",\n",
      "    keywords=\"None\"\n",
      ")\n"
     ]
    }
   ],
   "source": [
    "for p in procs:\n",
    "    print(p)"
   ]
  },
  {
   "cell_type": "code",
   "execution_count": 81,
   "id": "399a8c39-a69b-49a8-b9b1-03de6b3bc62f",
   "metadata": {},
   "outputs": [],
   "source": [
    "process = process_service.get_process(\"cwl_dag\")"
   ]
  },
  {
   "cell_type": "code",
   "execution_count": 82,
   "id": "04dee225-aea0-4132-b427-dbd26085986e",
   "metadata": {},
   "outputs": [
    {
     "name": "stdout",
     "output_type": "stream",
     "text": [
      "unity_sds_client.resources.Process(\n",
      "    id=\"cwl_dag\",\n",
      "    process_version=\"1.0.0\"\n",
      "    title=\"Generic CWL Process\",\n",
      "    abstract=\"This process executes any CWL workflow.\",\n",
      "    keywords=\"None\"\n",
      ")\n"
     ]
    }
   ],
   "source": [
    "print(process)"
   ]
  },
  {
   "cell_type": "code",
   "execution_count": 73,
   "id": "667f1082-9ce1-473d-8e8e-f96deb974dab",
   "metadata": {},
   "outputs": [],
   "source": [
    "# import pprint\n",
    "# for key, value in process.inputs.items():\n",
    "#     print(key)\n",
    "#     pprint.pprint(value.model_dump())"
   ]
  },
  {
   "cell_type": "code",
   "execution_count": 83,
   "id": "4057003a-ccec-4321-8c12-404d7ff1275a",
   "metadata": {},
   "outputs": [],
   "source": [
    "# Here we submit the job. Currently we submit a dictionary with the required 'inputs', 'outputs','subcscriber' keys if needed\n",
    "# We need to focus on building out the process_inputs progrmatically.\n",
    "\n",
    "data = {\n",
    "  \"inputs\": {\n",
    "    \"cwl_workflow\": \"https://raw.githubusercontent.com/unity-sds/unity-sps-workflows/main/demos/echo_message.cwl\",\n",
    "    \"cwl_args\": \"https://raw.githubusercontent.com/unity-sds/unity-sps-workflows/main/demos/echo_message.yaml\",\n",
    "    \"request_memory\": \"8Gi\",\n",
    "    \"request_cpu\": \"4\",\n",
    "    \"request_storage\": \"10Gi\"\n",
    "  },\n",
    "  \"outputs\": {\n",
    "    \"result\": {\n",
    "      \"transmissionMode\": \"reference\"\n",
    "    }\n",
    "  }\n",
    "}\n",
    "\n",
    "submitted_job = process.execute(data)"
   ]
  },
  {
   "cell_type": "code",
   "execution_count": 84,
   "id": "f08adb26-822e-4e01-8ec1-fbb4eb58bd26",
   "metadata": {},
   "outputs": [],
   "source": [
    "data = {\n",
    "  \"inputs\": {\n",
    "    \"cwl_workflow\": \"https://raw.githubusercontent.com/unity-sds/sbg-workflows/main/preprocess/sbg-preprocess-workflow.cwl\",\n",
    "    \"cwl_args\": \"https://raw.githubusercontent.com/unity-sds/sbg-workflows/main/preprocess/sbg-preprocess-workflow.dev.yml\",\n",
    "    \"request_memory\": \"8Gi\",\n",
    "    \"request_cpu\": \"4\",\n",
    "    \"request_storage\": \"10Gi\"\n",
    "  },\n",
    "  \"outputs\": {\n",
    "    \"result\": {\n",
    "      \"transmissionMode\": \"reference\"\n",
    "    }\n",
    "  }\n",
    "}\n",
    "\n",
    "submitted_job = process.execute(data)"
   ]
  },
  {
   "cell_type": "code",
   "execution_count": 23,
   "id": "a18a5727-750c-4307-b77c-7389d4ccc0f4",
   "metadata": {
    "scrolled": true
   },
   "outputs": [
    {
     "ename": "AttributeError",
     "evalue": "'Execute200ResponseInput' object has no attribute 'get_status'",
     "output_type": "error",
     "traceback": [
      "\u001b[0;31m---------------------------------------------------------------------------\u001b[0m",
      "\u001b[0;31mAttributeError\u001b[0m                            Traceback (most recent call last)",
      "Cell \u001b[0;32mIn[23], line 3\u001b[0m\n\u001b[1;32m      1\u001b[0m \u001b[38;5;28;01mimport\u001b[39;00m \u001b[38;5;21;01mtime\u001b[39;00m\n\u001b[0;32m----> 3\u001b[0m status \u001b[38;5;241m=\u001b[39m \u001b[43msubmitted_job\u001b[49m\u001b[38;5;241;43m.\u001b[39;49m\u001b[43mget_status\u001b[49m()\u001b[38;5;241m.\u001b[39mstatus\n\u001b[1;32m      4\u001b[0m \u001b[38;5;28;01mwhile\u001b[39;00m status \u001b[38;5;129;01min\u001b[39;00m [JobStatus\u001b[38;5;241m.\u001b[39mACCEPTED, JobStatus\u001b[38;5;241m.\u001b[39mRUNNING]:\n\u001b[1;32m      5\u001b[0m     \u001b[38;5;28mprint\u001b[39m(\u001b[38;5;124m\"\u001b[39m\u001b[38;5;124mjob \u001b[39m\u001b[38;5;132;01m{}\u001b[39;00m\u001b[38;5;124m is not complete. Currently in state \u001b[39m\u001b[38;5;132;01m{}\u001b[39;00m\u001b[38;5;124m \u001b[39m\u001b[38;5;124m\"\u001b[39m\u001b[38;5;241m.\u001b[39mformat(submitted_job\u001b[38;5;241m.\u001b[39mid, submitted_job\u001b[38;5;241m.\u001b[39mget_status()\u001b[38;5;241m.\u001b[39mstatus))\n",
      "File \u001b[0;32m~/.virtualenvs/unity-monorepo/lib/python3.12/site-packages/pydantic/main.py:853\u001b[0m, in \u001b[0;36mBaseModel.__getattr__\u001b[0;34m(self, item)\u001b[0m\n\u001b[1;32m    850\u001b[0m     \u001b[38;5;28;01mreturn\u001b[39;00m \u001b[38;5;28msuper\u001b[39m()\u001b[38;5;241m.\u001b[39m\u001b[38;5;21m__getattribute__\u001b[39m(item)  \u001b[38;5;66;03m# Raises AttributeError if appropriate\u001b[39;00m\n\u001b[1;32m    851\u001b[0m \u001b[38;5;28;01melse\u001b[39;00m:\n\u001b[1;32m    852\u001b[0m     \u001b[38;5;66;03m# this is the current error\u001b[39;00m\n\u001b[0;32m--> 853\u001b[0m     \u001b[38;5;28;01mraise\u001b[39;00m \u001b[38;5;167;01mAttributeError\u001b[39;00m(\u001b[38;5;124mf\u001b[39m\u001b[38;5;124m'\u001b[39m\u001b[38;5;132;01m{\u001b[39;00m\u001b[38;5;28mtype\u001b[39m(\u001b[38;5;28mself\u001b[39m)\u001b[38;5;241m.\u001b[39m\u001b[38;5;18m__name__\u001b[39m\u001b[38;5;132;01m!r}\u001b[39;00m\u001b[38;5;124m object has no attribute \u001b[39m\u001b[38;5;132;01m{\u001b[39;00mitem\u001b[38;5;132;01m!r}\u001b[39;00m\u001b[38;5;124m'\u001b[39m)\n",
      "\u001b[0;31mAttributeError\u001b[0m: 'Execute200ResponseInput' object has no attribute 'get_status'"
     ]
    }
   ],
   "source": [
    "import time\n",
    "\n",
    "status = submitted_job.get_status().status\n",
    "while status in [JobStatus.ACCEPTED, JobStatus.RUNNING]:\n",
    "    print(\"job {} is not complete. Currently in state {} \".format(submitted_job.id, submitted_job.get_status().status))\n",
    "    time.sleep(5)\n",
    "    status = submitted_job.get_status().status\n",
    "\n",
    "print(\"Job {} completed with status {}\".format(submitted_job.id, str(submitted_job.get_status().status)))"
   ]
  },
  {
   "cell_type": "code",
   "execution_count": 24,
   "id": "ce1ae133-4a84-434e-b0b9-defbab57af9a",
   "metadata": {},
   "outputs": [
    {
     "ename": "AttributeError",
     "evalue": "'Execute200ResponseInput' object has no attribute 'get_result'",
     "output_type": "error",
     "traceback": [
      "\u001b[0;31m---------------------------------------------------------------------------\u001b[0m",
      "\u001b[0;31mAttributeError\u001b[0m                            Traceback (most recent call last)",
      "Cell \u001b[0;32mIn[24], line 1\u001b[0m\n\u001b[0;32m----> 1\u001b[0m \u001b[43msubmitted_job\u001b[49m\u001b[38;5;241;43m.\u001b[39;49m\u001b[43mget_result\u001b[49m()\n",
      "File \u001b[0;32m~/.virtualenvs/unity-monorepo/lib/python3.12/site-packages/pydantic/main.py:853\u001b[0m, in \u001b[0;36mBaseModel.__getattr__\u001b[0;34m(self, item)\u001b[0m\n\u001b[1;32m    850\u001b[0m     \u001b[38;5;28;01mreturn\u001b[39;00m \u001b[38;5;28msuper\u001b[39m()\u001b[38;5;241m.\u001b[39m\u001b[38;5;21m__getattribute__\u001b[39m(item)  \u001b[38;5;66;03m# Raises AttributeError if appropriate\u001b[39;00m\n\u001b[1;32m    851\u001b[0m \u001b[38;5;28;01melse\u001b[39;00m:\n\u001b[1;32m    852\u001b[0m     \u001b[38;5;66;03m# this is the current error\u001b[39;00m\n\u001b[0;32m--> 853\u001b[0m     \u001b[38;5;28;01mraise\u001b[39;00m \u001b[38;5;167;01mAttributeError\u001b[39;00m(\u001b[38;5;124mf\u001b[39m\u001b[38;5;124m'\u001b[39m\u001b[38;5;132;01m{\u001b[39;00m\u001b[38;5;28mtype\u001b[39m(\u001b[38;5;28mself\u001b[39m)\u001b[38;5;241m.\u001b[39m\u001b[38;5;18m__name__\u001b[39m\u001b[38;5;132;01m!r}\u001b[39;00m\u001b[38;5;124m object has no attribute \u001b[39m\u001b[38;5;132;01m{\u001b[39;00mitem\u001b[38;5;132;01m!r}\u001b[39;00m\u001b[38;5;124m'\u001b[39m)\n",
      "\u001b[0;31mAttributeError\u001b[0m: 'Execute200ResponseInput' object has no attribute 'get_result'"
     ]
    }
   ],
   "source": [
    "submitted_job.get_result()"
   ]
  },
  {
   "cell_type": "code",
   "execution_count": 25,
   "id": "2875c57c-7383-4977-8cc0-b4d1ae14653d",
   "metadata": {},
   "outputs": [
    {
     "ename": "AttributeError",
     "evalue": "'Execute200ResponseInput' object has no attribute 'dismiss'",
     "output_type": "error",
     "traceback": [
      "\u001b[0;31m---------------------------------------------------------------------------\u001b[0m",
      "\u001b[0;31mAttributeError\u001b[0m                            Traceback (most recent call last)",
      "Cell \u001b[0;32mIn[25], line 1\u001b[0m\n\u001b[0;32m----> 1\u001b[0m status \u001b[38;5;241m=\u001b[39m \u001b[43msubmitted_job\u001b[49m\u001b[38;5;241;43m.\u001b[39;49m\u001b[43mdismiss\u001b[49m()\n\u001b[1;32m      2\u001b[0m \u001b[38;5;28mprint\u001b[39m(status)\n",
      "File \u001b[0;32m~/.virtualenvs/unity-monorepo/lib/python3.12/site-packages/pydantic/main.py:853\u001b[0m, in \u001b[0;36mBaseModel.__getattr__\u001b[0;34m(self, item)\u001b[0m\n\u001b[1;32m    850\u001b[0m     \u001b[38;5;28;01mreturn\u001b[39;00m \u001b[38;5;28msuper\u001b[39m()\u001b[38;5;241m.\u001b[39m\u001b[38;5;21m__getattribute__\u001b[39m(item)  \u001b[38;5;66;03m# Raises AttributeError if appropriate\u001b[39;00m\n\u001b[1;32m    851\u001b[0m \u001b[38;5;28;01melse\u001b[39;00m:\n\u001b[1;32m    852\u001b[0m     \u001b[38;5;66;03m# this is the current error\u001b[39;00m\n\u001b[0;32m--> 853\u001b[0m     \u001b[38;5;28;01mraise\u001b[39;00m \u001b[38;5;167;01mAttributeError\u001b[39;00m(\u001b[38;5;124mf\u001b[39m\u001b[38;5;124m'\u001b[39m\u001b[38;5;132;01m{\u001b[39;00m\u001b[38;5;28mtype\u001b[39m(\u001b[38;5;28mself\u001b[39m)\u001b[38;5;241m.\u001b[39m\u001b[38;5;18m__name__\u001b[39m\u001b[38;5;132;01m!r}\u001b[39;00m\u001b[38;5;124m object has no attribute \u001b[39m\u001b[38;5;132;01m{\u001b[39;00mitem\u001b[38;5;132;01m!r}\u001b[39;00m\u001b[38;5;124m'\u001b[39m)\n",
      "\u001b[0;31mAttributeError\u001b[0m: 'Execute200ResponseInput' object has no attribute 'dismiss'"
     ]
    }
   ],
   "source": [
    "status = submitted_job.dismiss()\n",
    "print(status)"
   ]
  },
  {
   "cell_type": "code",
   "execution_count": 55,
   "id": "ae823803-05cf-420f-a8de-dd88157f7bfe",
   "metadata": {},
   "outputs": [],
   "source": [
    "jobs = process_service.get_jobs()"
   ]
  },
  {
   "cell_type": "code",
   "execution_count": 56,
   "id": "af2caec6-f393-433f-86ba-24b178bdef12",
   "metadata": {},
   "outputs": [
    {
     "name": "stdout",
     "output_type": "stream",
     "text": [
      "unity_sds_client.resources.Job(\n",
      "    id=\"52c99990-51f1-4e69-84a0-8e9ff30e3269\",\n",
      "    process=\"cwl_dag\",\n",
      "    status=\"accepted\",\n",
      "    inputs=None\n",
      ")\n",
      "unity_sds_client.resources.Job(\n",
      "    id=\"b525ef73-cac7-415a-8fcc-eabc4a25ffda\",\n",
      "    process=\"cwl_dag\",\n",
      "    status=\"accepted\",\n",
      "    inputs=None\n",
      ")\n",
      "unity_sds_client.resources.Job(\n",
      "    id=\"88b18803-fc3e-4335-a11c-30cfae53bff8\",\n",
      "    process=\"cwl_dag\",\n",
      "    status=\"accepted\",\n",
      "    inputs=None\n",
      ")\n"
     ]
    }
   ],
   "source": [
    "for j in jobs:\n",
    "    print(j)"
   ]
  },
  {
   "cell_type": "code",
   "execution_count": null,
   "id": "d524b977-41f3-40fd-b563-9baf4746ce12",
   "metadata": {},
   "outputs": [],
   "source": []
  }
 ],
 "metadata": {
  "kernelspec": {
   "display_name": "unity-monorepo",
   "language": "python",
   "name": "unity-monorepo"
  },
  "language_info": {
   "codemirror_mode": {
    "name": "ipython",
    "version": 3
   },
   "file_extension": ".py",
   "mimetype": "text/x-python",
   "name": "python",
   "nbconvert_exporter": "python",
   "pygments_lexer": "ipython3",
   "version": "3.12.0"
  }
 },
 "nbformat": 4,
 "nbformat_minor": 5
}
