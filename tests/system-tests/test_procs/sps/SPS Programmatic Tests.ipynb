{
 "cells": [
  {
   "cell_type": "markdown",
   "id": "7e1822bd-5256-47e1-b7c0-eb4d686630ef",
   "metadata": {},
   "source": [
    "# Airflow Test Procedures\n",
    "\n",
    "## Setup"
   ]
  },
  {
   "cell_type": "code",
   "execution_count": 19,
   "id": "38143e42-3efb-4f61-b18d-07ed3364b83e",
   "metadata": {},
   "outputs": [
    {
     "name": "stdin",
     "output_type": "stream",
     "text": [
      "Enter your username ········\n",
      "Enter your password ········\n"
     ]
    }
   ],
   "source": [
    "import requests\n",
    "import getpass\n",
    "\n",
    "username = getpass.getpass('Enter your username')\n",
    "password = getpass.getpass('Enter your password')\n"
   ]
  },
  {
   "cell_type": "markdown",
   "id": "3c3c87fa-a5af-4e95-84a3-e52d7d2ce291",
   "metadata": {},
   "source": [
    "## Error Notification Listing"
   ]
  },
  {
   "cell_type": "code",
   "execution_count": 25,
   "id": "a0488aa7-fa44-453e-839c-3a12acf44bbd",
   "metadata": {},
   "outputs": [
    {
     "data": {
      "text/plain": [
       "{'dag_runs': [], 'total_entries': 0}"
      ]
     },
     "execution_count": 25,
     "metadata": {},
     "output_type": "execute_result"
    }
   ],
   "source": [
    "# All Errors\n",
    "params = {\"state\":\"failed\"}\n",
    "response = requests.get(\"http://k8s-airflow-airflowi-5b65901547-1049720377.us-west-2.elb.amazonaws.com:5000/api/v1/dags/cwl_dag/dagRuns\",auth=(username, password), params=params, headers={\"accept\":\"application/json\"})\n",
    "response.json()"
   ]
  },
  {
   "cell_type": "code",
   "execution_count": 30,
   "id": "895da6b1-ca3e-45b2-9dac-a302ccd1380a",
   "metadata": {},
   "outputs": [
    {
     "data": {
      "text/plain": [
       "{'dag_runs': [{'conf': {'inputs': None, 'outputs': None, 'subscriber': None},\n",
       "   'dag_id': 'cwl_dag',\n",
       "   'dag_run_id': 'b556b6ef-97fe-414e-b0fc-d1cfc9384325',\n",
       "   'data_interval_end': '2024-07-08T20:23:28.549040+00:00',\n",
       "   'data_interval_start': '2024-07-08T20:23:28.549040+00:00',\n",
       "   'end_date': '2024-07-08T20:29:02.555987+00:00',\n",
       "   'execution_date': '2024-07-08T20:23:28.549040+00:00',\n",
       "   'external_trigger': True,\n",
       "   'last_scheduling_decision': '2024-07-08T20:29:02.553146+00:00',\n",
       "   'logical_date': '2024-07-08T20:23:28.549040+00:00',\n",
       "   'note': None,\n",
       "   'run_type': 'manual',\n",
       "   'start_date': '2024-07-08T20:23:28.990749+00:00',\n",
       "   'state': 'success'},\n",
       "  {'conf': {'inputs': None, 'outputs': None, 'subscriber': None},\n",
       "   'dag_id': 'cwl_dag',\n",
       "   'dag_run_id': 'cf27e6f0-ca01-45ed-8ed7-23629c680b7e',\n",
       "   'data_interval_end': '2024-07-08T20:44:46.030292+00:00',\n",
       "   'data_interval_start': '2024-07-08T20:44:46.030292+00:00',\n",
       "   'end_date': '2024-07-08T20:51:35.872646+00:00',\n",
       "   'execution_date': '2024-07-08T20:44:46.030292+00:00',\n",
       "   'external_trigger': True,\n",
       "   'last_scheduling_decision': '2024-07-08T20:51:35.870390+00:00',\n",
       "   'logical_date': '2024-07-08T20:44:46.030292+00:00',\n",
       "   'note': None,\n",
       "   'run_type': 'manual',\n",
       "   'start_date': '2024-07-08T20:44:46.827962+00:00',\n",
       "   'state': 'success'},\n",
       "  {'conf': {'inputs': None, 'outputs': None, 'subscriber': None},\n",
       "   'dag_id': 'cwl_dag',\n",
       "   'dag_run_id': 'd5d96a98-ae39-41e0-95a7-32aa72e27696',\n",
       "   'data_interval_end': '2024-07-08T20:51:36.269607+00:00',\n",
       "   'data_interval_start': '2024-07-08T20:51:36.269607+00:00',\n",
       "   'end_date': '2024-07-08T20:51:48.148196+00:00',\n",
       "   'execution_date': '2024-07-08T20:51:36.269607+00:00',\n",
       "   'external_trigger': True,\n",
       "   'last_scheduling_decision': '2024-07-08T20:51:48.145876+00:00',\n",
       "   'logical_date': '2024-07-08T20:51:36.269607+00:00',\n",
       "   'note': None,\n",
       "   'run_type': 'manual',\n",
       "   'start_date': '2024-07-08T20:51:36.919512+00:00',\n",
       "   'state': 'success'}],\n",
       " 'total_entries': 3}"
      ]
     },
     "execution_count": 30,
     "metadata": {},
     "output_type": "execute_result"
    }
   ],
   "source": [
    "# Last 24 hours, any status\n",
    "from datetime import datetime\n",
    "from datetime import timedelta\n",
    "yesterday = datetime.now() - timedelta(days=1)\n",
    "params = {\"execution_date_gte\":yesterday.strftime('%Y-%m-%dT%H:%M:%SZ')}\n",
    "response = requests.get(\"http://k8s-airflow-airflowi-5b65901547-1049720377.us-west-2.elb.amazonaws.com:5000/api/v1/dags/cwl_dag/dagRuns\",auth=(username, password), params=params, headers={\"accept\":\"application/json\"})\n",
    "response.json()"
   ]
  },
  {
   "cell_type": "markdown",
   "id": "87c29cd0-88bc-44bf-abc0-50b9a75fba1f",
   "metadata": {},
   "source": [
    "## Execution Listing"
   ]
  },
  {
   "cell_type": "code",
   "execution_count": 27,
   "id": "dece8699-ff52-4327-bf8e-4403401903aa",
   "metadata": {},
   "outputs": [
    {
     "data": {
      "text/plain": [
       "{'dag_runs': [{'conf': {'inputs': None, 'outputs': None, 'subscriber': None},\n",
       "   'dag_id': 'cwl_dag',\n",
       "   'dag_run_id': 'b556b6ef-97fe-414e-b0fc-d1cfc9384325',\n",
       "   'data_interval_end': '2024-07-08T20:23:28.549040+00:00',\n",
       "   'data_interval_start': '2024-07-08T20:23:28.549040+00:00',\n",
       "   'end_date': '2024-07-08T20:29:02.555987+00:00',\n",
       "   'execution_date': '2024-07-08T20:23:28.549040+00:00',\n",
       "   'external_trigger': True,\n",
       "   'last_scheduling_decision': '2024-07-08T20:29:02.553146+00:00',\n",
       "   'logical_date': '2024-07-08T20:23:28.549040+00:00',\n",
       "   'note': None,\n",
       "   'run_type': 'manual',\n",
       "   'start_date': '2024-07-08T20:23:28.990749+00:00',\n",
       "   'state': 'success'},\n",
       "  {'conf': {'inputs': None, 'outputs': None, 'subscriber': None},\n",
       "   'dag_id': 'cwl_dag',\n",
       "   'dag_run_id': 'cf27e6f0-ca01-45ed-8ed7-23629c680b7e',\n",
       "   'data_interval_end': '2024-07-08T20:44:46.030292+00:00',\n",
       "   'data_interval_start': '2024-07-08T20:44:46.030292+00:00',\n",
       "   'end_date': '2024-07-08T20:51:35.872646+00:00',\n",
       "   'execution_date': '2024-07-08T20:44:46.030292+00:00',\n",
       "   'external_trigger': True,\n",
       "   'last_scheduling_decision': '2024-07-08T20:51:35.870390+00:00',\n",
       "   'logical_date': '2024-07-08T20:44:46.030292+00:00',\n",
       "   'note': None,\n",
       "   'run_type': 'manual',\n",
       "   'start_date': '2024-07-08T20:44:46.827962+00:00',\n",
       "   'state': 'success'},\n",
       "  {'conf': {'inputs': None, 'outputs': None, 'subscriber': None},\n",
       "   'dag_id': 'cwl_dag',\n",
       "   'dag_run_id': 'd5d96a98-ae39-41e0-95a7-32aa72e27696',\n",
       "   'data_interval_end': '2024-07-08T20:51:36.269607+00:00',\n",
       "   'data_interval_start': '2024-07-08T20:51:36.269607+00:00',\n",
       "   'end_date': '2024-07-08T20:51:48.148196+00:00',\n",
       "   'execution_date': '2024-07-08T20:51:36.269607+00:00',\n",
       "   'external_trigger': True,\n",
       "   'last_scheduling_decision': '2024-07-08T20:51:48.145876+00:00',\n",
       "   'logical_date': '2024-07-08T20:51:36.269607+00:00',\n",
       "   'note': None,\n",
       "   'run_type': 'manual',\n",
       "   'start_date': '2024-07-08T20:51:36.919512+00:00',\n",
       "   'state': 'success'}],\n",
       " 'total_entries': 3}"
      ]
     },
     "execution_count": 27,
     "metadata": {},
     "output_type": "execute_result"
    }
   ],
   "source": [
    "params = {}\n",
    "response = requests.get(\"http://k8s-airflow-airflowi-5b65901547-1049720377.us-west-2.elb.amazonaws.com:5000/api/v1/dags/cwl_dag/dagRuns\",auth=(username, password), params=params, headers={\"accept\":\"application/json\"})\n",
    "response.json()"
   ]
  },
  {
   "cell_type": "markdown",
   "id": "ca5e2528-33de-4538-99ef-af7791fb0742",
   "metadata": {},
   "source": [
    "# Information Propagation"
   ]
  },
  {
   "cell_type": "code",
   "execution_count": 32,
   "id": "03fa98bd-a612-46c8-9a32-276093f1c112",
   "metadata": {},
   "outputs": [
    {
     "data": {
      "text/plain": [
       "{'dag_runs': [{'conf': {'inputs': None, 'outputs': None, 'subscriber': None},\n",
       "   'dag_id': 'cwl_dag',\n",
       "   'dag_run_id': 'b556b6ef-97fe-414e-b0fc-d1cfc9384325',\n",
       "   'data_interval_end': '2024-07-08T20:23:28.549040+00:00',\n",
       "   'data_interval_start': '2024-07-08T20:23:28.549040+00:00',\n",
       "   'end_date': '2024-07-08T20:29:02.555987+00:00',\n",
       "   'execution_date': '2024-07-08T20:23:28.549040+00:00',\n",
       "   'external_trigger': True,\n",
       "   'last_scheduling_decision': '2024-07-08T20:29:02.553146+00:00',\n",
       "   'logical_date': '2024-07-08T20:23:28.549040+00:00',\n",
       "   'note': None,\n",
       "   'run_type': 'manual',\n",
       "   'start_date': '2024-07-08T20:23:28.990749+00:00',\n",
       "   'state': 'success'},\n",
       "  {'conf': {'inputs': None, 'outputs': None, 'subscriber': None},\n",
       "   'dag_id': 'cwl_dag',\n",
       "   'dag_run_id': 'cf27e6f0-ca01-45ed-8ed7-23629c680b7e',\n",
       "   'data_interval_end': '2024-07-08T20:44:46.030292+00:00',\n",
       "   'data_interval_start': '2024-07-08T20:44:46.030292+00:00',\n",
       "   'end_date': '2024-07-08T20:51:35.872646+00:00',\n",
       "   'execution_date': '2024-07-08T20:44:46.030292+00:00',\n",
       "   'external_trigger': True,\n",
       "   'last_scheduling_decision': '2024-07-08T20:51:35.870390+00:00',\n",
       "   'logical_date': '2024-07-08T20:44:46.030292+00:00',\n",
       "   'note': None,\n",
       "   'run_type': 'manual',\n",
       "   'start_date': '2024-07-08T20:44:46.827962+00:00',\n",
       "   'state': 'success'},\n",
       "  {'conf': {'inputs': None, 'outputs': None, 'subscriber': None},\n",
       "   'dag_id': 'cwl_dag',\n",
       "   'dag_run_id': 'd5d96a98-ae39-41e0-95a7-32aa72e27696',\n",
       "   'data_interval_end': '2024-07-08T20:51:36.269607+00:00',\n",
       "   'data_interval_start': '2024-07-08T20:51:36.269607+00:00',\n",
       "   'end_date': '2024-07-08T20:51:48.148196+00:00',\n",
       "   'execution_date': '2024-07-08T20:51:36.269607+00:00',\n",
       "   'external_trigger': True,\n",
       "   'last_scheduling_decision': '2024-07-08T20:51:48.145876+00:00',\n",
       "   'logical_date': '2024-07-08T20:51:36.269607+00:00',\n",
       "   'note': None,\n",
       "   'run_type': 'manual',\n",
       "   'start_date': '2024-07-08T20:51:36.919512+00:00',\n",
       "   'state': 'success'}],\n",
       " 'total_entries': 3}"
      ]
     },
     "execution_count": 32,
     "metadata": {},
     "output_type": "execute_result"
    }
   ],
   "source": [
    "params = {\"state\":\"success\"}\n",
    "response = requests.get(\"http://k8s-airflow-airflowi-5b65901547-1049720377.us-west-2.elb.amazonaws.com:5000/api/v1/dags/cwl_dag/dagRuns\",auth=(username, password), params=params, headers={\"accept\":\"application/json\"})\n",
    "resp = response.json()\n",
    "response.json()"
   ]
  },
  {
   "cell_type": "code",
   "execution_count": 33,
   "id": "28f67063-5aa2-4ae9-981e-1aa57be2c765",
   "metadata": {},
   "outputs": [
    {
     "data": {
      "text/plain": [
       "{'detail': None,\n",
       " 'status': 404,\n",
       " 'title': 'TaskInstance not found',\n",
       " 'type': 'https://airflow.apache.org/docs/apache-airflow/2.9.1/stable-rest-api-ref.html#section/Errors/NotFound'}"
      ]
     },
     "execution_count": 33,
     "metadata": {},
     "output_type": "execute_result"
    }
   ],
   "source": [
    "dag_run_id = resp['dag_runs'][0]['dag_run_id']\n",
    "response = requests.get(\"http://k8s-airflow-airflowi-5b65901547-1049720377.us-west-2.elb.amazonaws.com:5000/api/v1/dags/cwl_dag/dagRuns/\" + str(dag_run_id) + \"/taskInstances/docker-cwl-task/logs/1\",auth=(username, password), headers={\"accept\":\"application/json\"})\n",
    "response.json()"
   ]
  },
  {
   "cell_type": "markdown",
   "id": "d1398a83-1e0a-45aa-8d1a-d3e4b1c87d03",
   "metadata": {},
   "source": [
    "# OGC Tests"
   ]
  },
  {
   "cell_type": "code",
   "execution_count": 1,
   "id": "9d782be9-6275-4d16-94e6-3e6a8fecc8a6",
   "metadata": {},
   "outputs": [],
   "source": [
    "import requests\n",
    "import time\n",
    "\n",
    "from datetime import datetime\n",
    "from IPython.display import JSON\n",
    "\n",
    "from unity_sds_client.unity import Unity\n",
    "from unity_sds_client.unity_services import UnityServices\n",
    "from unity_sds_client.resources.job_status import JobStatus\n",
    "from unity_sds_client.unity import UnityEnvironments\n"
   ]
  },
  {
   "cell_type": "code",
   "execution_count": 2,
   "id": "a1067c25-47f4-413d-aba3-18aebd1cba65",
   "metadata": {},
   "outputs": [
    {
     "name": "stdin",
     "output_type": "stream",
     "text": [
      "Please enter your Unity username:  gangl\n",
      "Please enter your Unity password:  ········\n"
     ]
    }
   ],
   "source": [
    "unity = Unity(UnityEnvironments.DEV)\n",
    "unity.set_venue_id(\"\")\n",
    "process_service = unity.client(UnityServices.PROCESS_SERVICE)\n"
   ]
  },
  {
   "cell_type": "code",
   "execution_count": 3,
   "id": "398f6893-9bd9-4e5c-ac0f-0335fb6de86d",
   "metadata": {},
   "outputs": [
    {
     "name": "stdout",
     "output_type": "stream",
     "text": [
      "unity_sds_client.resources.Process(\n",
      "    id=\"cwl_dag\",\n",
      "    process_version=\"1.0.0\"\n",
      "    title=\"None\",\n",
      "    abstract=\"None\",\n",
      "    keywords=\"None\"\n",
      ")\n",
      "unity_sds_client.resources.Process(\n",
      "    id=\"karpenter_test\",\n",
      "    process_version=\"1.0.0\"\n",
      "    title=\"None\",\n",
      "    abstract=\"None\",\n",
      "    keywords=\"None\"\n",
      ")\n",
      "unity_sds_client.resources.Process(\n",
      "    id=\"sbg_preprocess_cwl_dag\",\n",
      "    process_version=\"1.0.0\"\n",
      "    title=\"None\",\n",
      "    abstract=\"None\",\n",
      "    keywords=\"None\"\n",
      ")\n"
     ]
    }
   ],
   "source": [
    "process_service.endpoint = \"http://k8s-airflow-ogcproce-b6d7fd9310-1676709116.us-west-2.elb.amazonaws.com:5001\"\n",
    "procs = process_service.get_processes()\n",
    "for p in procs:\n",
    "    print(p)\n"
   ]
  },
  {
   "cell_type": "code",
   "execution_count": 10,
   "id": "89cf9b4a-f344-40cf-9334-a23d55f8392f",
   "metadata": {},
   "outputs": [],
   "source": [
    "process = process_service.get_process(\"cwl_dag\")\n"
   ]
  },
  {
   "cell_type": "code",
   "execution_count": 11,
   "id": "ab7371da-e688-4177-a084-7ac05454c683",
   "metadata": {},
   "outputs": [
    {
     "name": "stdout",
     "output_type": "stream",
     "text": [
      "unity_sds_client.resources.Process(\n",
      "    id=\"cwl_dag\",\n",
      "    process_version=\"1.0.0\"\n",
      "    title=\"None\",\n",
      "    abstract=\"None\",\n",
      "    keywords=\"None\"\n",
      ")\n"
     ]
    }
   ],
   "source": [
    "print(process)\n"
   ]
  },
  {
   "cell_type": "code",
   "execution_count": 14,
   "id": "0c52be73-caff-4a8c-84b5-d5cedd82837f",
   "metadata": {},
   "outputs": [
    {
     "name": "stdout",
     "output_type": "stream",
     "text": [
      "unity_sds_client.resources.Job(\n",
      "    id=\"d5d96a98-ae39-41e0-95a7-32aa72e27696\",\n",
      "    process=\"cwl_dag\",\n",
      "    status=\"accepted\",\n",
      "    inputs=None\n",
      ")\n"
     ]
    }
   ],
   "source": [
    "# Here we submit the job. Currently we submit a dictionary with the required 'inputs', 'outputs','subcscriber' keys if needed (currently they are not needed). IF empty, the default values for a job are used.\n",
    "# We need to focus on building out the process_inputs progrmatically.\n",
    "submitted_job = process.execute({})\n",
    "print(submitted_job)\n"
   ]
  },
  {
   "cell_type": "code",
   "execution_count": 13,
   "id": "615849b8-c437-433c-8f7a-8302c7d890d2",
   "metadata": {},
   "outputs": [
    {
     "name": "stdout",
     "output_type": "stream",
     "text": [
      "job cf27e6f0-ca01-45ed-8ed7-23629c680b7e is not complete. Currently in state JobStatus.RUNNING \n",
      "job cf27e6f0-ca01-45ed-8ed7-23629c680b7e is not complete. Currently in state JobStatus.RUNNING \n",
      "job cf27e6f0-ca01-45ed-8ed7-23629c680b7e is not complete. Currently in state JobStatus.RUNNING \n",
      "job cf27e6f0-ca01-45ed-8ed7-23629c680b7e is not complete. Currently in state JobStatus.RUNNING \n",
      "job cf27e6f0-ca01-45ed-8ed7-23629c680b7e is not complete. Currently in state JobStatus.RUNNING \n",
      "job cf27e6f0-ca01-45ed-8ed7-23629c680b7e is not complete. Currently in state JobStatus.RUNNING \n",
      "job cf27e6f0-ca01-45ed-8ed7-23629c680b7e is not complete. Currently in state JobStatus.RUNNING \n",
      "job cf27e6f0-ca01-45ed-8ed7-23629c680b7e is not complete. Currently in state JobStatus.RUNNING \n",
      "job cf27e6f0-ca01-45ed-8ed7-23629c680b7e is not complete. Currently in state JobStatus.RUNNING \n",
      "job cf27e6f0-ca01-45ed-8ed7-23629c680b7e is not complete. Currently in state JobStatus.RUNNING \n",
      "job cf27e6f0-ca01-45ed-8ed7-23629c680b7e is not complete. Currently in state JobStatus.RUNNING \n",
      "job cf27e6f0-ca01-45ed-8ed7-23629c680b7e is not complete. Currently in state JobStatus.RUNNING \n",
      "job cf27e6f0-ca01-45ed-8ed7-23629c680b7e is not complete. Currently in state JobStatus.RUNNING \n",
      "job cf27e6f0-ca01-45ed-8ed7-23629c680b7e is not complete. Currently in state JobStatus.RUNNING \n",
      "job cf27e6f0-ca01-45ed-8ed7-23629c680b7e is not complete. Currently in state JobStatus.RUNNING \n",
      "job cf27e6f0-ca01-45ed-8ed7-23629c680b7e is not complete. Currently in state JobStatus.RUNNING \n",
      "job cf27e6f0-ca01-45ed-8ed7-23629c680b7e is not complete. Currently in state JobStatus.RUNNING \n",
      "job cf27e6f0-ca01-45ed-8ed7-23629c680b7e is not complete. Currently in state JobStatus.RUNNING \n",
      "job cf27e6f0-ca01-45ed-8ed7-23629c680b7e is not complete. Currently in state JobStatus.RUNNING \n",
      "job cf27e6f0-ca01-45ed-8ed7-23629c680b7e is not complete. Currently in state JobStatus.RUNNING \n",
      "job cf27e6f0-ca01-45ed-8ed7-23629c680b7e is not complete. Currently in state JobStatus.RUNNING \n",
      "job cf27e6f0-ca01-45ed-8ed7-23629c680b7e is not complete. Currently in state JobStatus.RUNNING \n",
      "job cf27e6f0-ca01-45ed-8ed7-23629c680b7e is not complete. Currently in state JobStatus.RUNNING \n",
      "job cf27e6f0-ca01-45ed-8ed7-23629c680b7e is not complete. Currently in state JobStatus.RUNNING \n",
      "job cf27e6f0-ca01-45ed-8ed7-23629c680b7e is not complete. Currently in state JobStatus.RUNNING \n",
      "job cf27e6f0-ca01-45ed-8ed7-23629c680b7e is not complete. Currently in state JobStatus.RUNNING \n",
      "job cf27e6f0-ca01-45ed-8ed7-23629c680b7e is not complete. Currently in state JobStatus.RUNNING \n",
      "job cf27e6f0-ca01-45ed-8ed7-23629c680b7e is not complete. Currently in state JobStatus.RUNNING \n",
      "job cf27e6f0-ca01-45ed-8ed7-23629c680b7e is not complete. Currently in state JobStatus.RUNNING \n",
      "job cf27e6f0-ca01-45ed-8ed7-23629c680b7e is not complete. Currently in state JobStatus.RUNNING \n",
      "job cf27e6f0-ca01-45ed-8ed7-23629c680b7e is not complete. Currently in state JobStatus.RUNNING \n",
      "job cf27e6f0-ca01-45ed-8ed7-23629c680b7e is not complete. Currently in state JobStatus.RUNNING \n",
      "job cf27e6f0-ca01-45ed-8ed7-23629c680b7e is not complete. Currently in state JobStatus.RUNNING \n",
      "job cf27e6f0-ca01-45ed-8ed7-23629c680b7e is not complete. Currently in state JobStatus.RUNNING \n",
      "job cf27e6f0-ca01-45ed-8ed7-23629c680b7e is not complete. Currently in state JobStatus.RUNNING \n",
      "job cf27e6f0-ca01-45ed-8ed7-23629c680b7e is not complete. Currently in state JobStatus.RUNNING \n",
      "job cf27e6f0-ca01-45ed-8ed7-23629c680b7e is not complete. Currently in state JobStatus.RUNNING \n",
      "job cf27e6f0-ca01-45ed-8ed7-23629c680b7e is not complete. Currently in state JobStatus.RUNNING \n",
      "job cf27e6f0-ca01-45ed-8ed7-23629c680b7e is not complete. Currently in state JobStatus.RUNNING \n",
      "job cf27e6f0-ca01-45ed-8ed7-23629c680b7e is not complete. Currently in state JobStatus.RUNNING \n",
      "job cf27e6f0-ca01-45ed-8ed7-23629c680b7e is not complete. Currently in state JobStatus.RUNNING \n",
      "job cf27e6f0-ca01-45ed-8ed7-23629c680b7e is not complete. Currently in state JobStatus.RUNNING \n",
      "job cf27e6f0-ca01-45ed-8ed7-23629c680b7e is not complete. Currently in state JobStatus.RUNNING \n",
      "job cf27e6f0-ca01-45ed-8ed7-23629c680b7e is not complete. Currently in state JobStatus.RUNNING \n",
      "job cf27e6f0-ca01-45ed-8ed7-23629c680b7e is not complete. Currently in state JobStatus.RUNNING \n",
      "job cf27e6f0-ca01-45ed-8ed7-23629c680b7e is not complete. Currently in state JobStatus.RUNNING \n",
      "job cf27e6f0-ca01-45ed-8ed7-23629c680b7e is not complete. Currently in state JobStatus.RUNNING \n",
      "job cf27e6f0-ca01-45ed-8ed7-23629c680b7e is not complete. Currently in state JobStatus.RUNNING \n",
      "job cf27e6f0-ca01-45ed-8ed7-23629c680b7e is not complete. Currently in state JobStatus.RUNNING \n",
      "job cf27e6f0-ca01-45ed-8ed7-23629c680b7e is not complete. Currently in state JobStatus.RUNNING \n",
      "job cf27e6f0-ca01-45ed-8ed7-23629c680b7e is not complete. Currently in state JobStatus.RUNNING \n",
      "job cf27e6f0-ca01-45ed-8ed7-23629c680b7e is not complete. Currently in state JobStatus.RUNNING \n",
      "job cf27e6f0-ca01-45ed-8ed7-23629c680b7e is not complete. Currently in state JobStatus.RUNNING \n",
      "job cf27e6f0-ca01-45ed-8ed7-23629c680b7e is not complete. Currently in state JobStatus.RUNNING \n",
      "job cf27e6f0-ca01-45ed-8ed7-23629c680b7e is not complete. Currently in state JobStatus.RUNNING \n",
      "job cf27e6f0-ca01-45ed-8ed7-23629c680b7e is not complete. Currently in state JobStatus.RUNNING \n",
      "job cf27e6f0-ca01-45ed-8ed7-23629c680b7e is not complete. Currently in state JobStatus.RUNNING \n",
      "job cf27e6f0-ca01-45ed-8ed7-23629c680b7e is not complete. Currently in state JobStatus.RUNNING \n",
      "job cf27e6f0-ca01-45ed-8ed7-23629c680b7e is not complete. Currently in state JobStatus.RUNNING \n",
      "job cf27e6f0-ca01-45ed-8ed7-23629c680b7e is not complete. Currently in state JobStatus.RUNNING \n",
      "job cf27e6f0-ca01-45ed-8ed7-23629c680b7e is not complete. Currently in state JobStatus.RUNNING \n",
      "job cf27e6f0-ca01-45ed-8ed7-23629c680b7e is not complete. Currently in state JobStatus.RUNNING \n",
      "job cf27e6f0-ca01-45ed-8ed7-23629c680b7e is not complete. Currently in state JobStatus.RUNNING \n",
      "job cf27e6f0-ca01-45ed-8ed7-23629c680b7e is not complete. Currently in state JobStatus.RUNNING \n",
      "job cf27e6f0-ca01-45ed-8ed7-23629c680b7e is not complete. Currently in state JobStatus.RUNNING \n",
      "job cf27e6f0-ca01-45ed-8ed7-23629c680b7e is not complete. Currently in state JobStatus.RUNNING \n",
      "job cf27e6f0-ca01-45ed-8ed7-23629c680b7e is not complete. Currently in state JobStatus.RUNNING \n",
      "job cf27e6f0-ca01-45ed-8ed7-23629c680b7e is not complete. Currently in state JobStatus.RUNNING \n",
      "job cf27e6f0-ca01-45ed-8ed7-23629c680b7e is not complete. Currently in state JobStatus.RUNNING \n",
      "job cf27e6f0-ca01-45ed-8ed7-23629c680b7e is not complete. Currently in state JobStatus.RUNNING \n",
      "job cf27e6f0-ca01-45ed-8ed7-23629c680b7e is not complete. Currently in state JobStatus.RUNNING \n",
      "job cf27e6f0-ca01-45ed-8ed7-23629c680b7e is not complete. Currently in state JobStatus.RUNNING \n",
      "job cf27e6f0-ca01-45ed-8ed7-23629c680b7e is not complete. Currently in state JobStatus.RUNNING \n",
      "job cf27e6f0-ca01-45ed-8ed7-23629c680b7e is not complete. Currently in state JobStatus.RUNNING \n",
      "job cf27e6f0-ca01-45ed-8ed7-23629c680b7e is not complete. Currently in state JobStatus.RUNNING \n",
      "job cf27e6f0-ca01-45ed-8ed7-23629c680b7e is not complete. Currently in state JobStatus.RUNNING \n",
      "job cf27e6f0-ca01-45ed-8ed7-23629c680b7e is not complete. Currently in state JobStatus.RUNNING \n",
      "Job cf27e6f0-ca01-45ed-8ed7-23629c680b7e completed with status JobStatus.SUCCESSFUL\n"
     ]
    }
   ],
   "source": [
    "import time\n",
    "\n",
    "status = submitted_job.get_status().status\n",
    "while status in [JobStatus.ACCEPTED, JobStatus.RUNNING]:\n",
    "    print(\"job {} is not complete. Currently in state {} \".format(submitted_job.id, submitted_job.get_status().status))\n",
    "    time.sleep(5)\n",
    "    status = submitted_job.get_status().status\n",
    "\n",
    "print(\"Job {} completed with status {}\".format(submitted_job.id, str(submitted_job.get_status().status)))"
   ]
  },
  {
   "cell_type": "code",
   "execution_count": 15,
   "id": "6964fe16-2994-4003-9299-3b8aab4cf9ac",
   "metadata": {},
   "outputs": [
    {
     "data": {
      "text/plain": [
       "[]"
      ]
     },
     "execution_count": 15,
     "metadata": {},
     "output_type": "execute_result"
    }
   ],
   "source": [
    "submitted_job.get_result()\n"
   ]
  },
  {
   "cell_type": "code",
   "execution_count": 16,
   "id": "b6534040-fbd3-4c45-a6f9-2247295ebc35",
   "metadata": {},
   "outputs": [
    {
     "name": "stdout",
     "output_type": "stream",
     "text": [
      "unity_sds_client.resources.Job(\n",
      "    id=\"d5d96a98-ae39-41e0-95a7-32aa72e27696\",\n",
      "    process=\"cwl_dag\",\n",
      "    status=\"dismissed\",\n",
      "    inputs=None\n",
      ")\n"
     ]
    }
   ],
   "source": [
    "status = submitted_job.dismiss()\n",
    "print(status)"
   ]
  },
  {
   "cell_type": "code",
   "execution_count": 18,
   "id": "97838c7c-f0d0-41f9-985f-6443d1c41bda",
   "metadata": {},
   "outputs": [
    {
     "name": "stdout",
     "output_type": "stream",
     "text": [
      "unity_sds_client.resources.Job(\n",
      "    id=\"b556b6ef-97fe-414e-b0fc-d1cfc9384325\",\n",
      "    process=\"cwl_dag\",\n",
      "    status=\"accepted\",\n",
      "    inputs=None\n",
      ")\n",
      "unity_sds_client.resources.Job(\n",
      "    id=\"cf27e6f0-ca01-45ed-8ed7-23629c680b7e\",\n",
      "    process=\"cwl_dag\",\n",
      "    status=\"successful\",\n",
      "    inputs=None\n",
      ")\n"
     ]
    }
   ],
   "source": [
    "jobs = process_service.get_jobs(process=process)\n",
    "for j in jobs:\n",
    "    print(j)"
   ]
  },
  {
   "cell_type": "code",
   "execution_count": null,
   "id": "d65498f1-32d6-460b-b11c-b90186527eda",
   "metadata": {},
   "outputs": [],
   "source": []
  },
  {
   "cell_type": "code",
   "execution_count": null,
   "id": "ffe7feff-feed-49c0-b33d-b38e78a369af",
   "metadata": {},
   "outputs": [],
   "source": []
  }
 ],
 "metadata": {
  "kernelspec": {
   "display_name": "Python [conda env:root] *",
   "language": "python",
   "name": "conda-root-py"
  },
  "language_info": {
   "codemirror_mode": {
    "name": "ipython",
    "version": 3
   },
   "file_extension": ".py",
   "mimetype": "text/x-python",
   "name": "python",
   "nbconvert_exporter": "python",
   "pygments_lexer": "ipython3",
   "version": "3.11.6"
  }
 },
 "nbformat": 4,
 "nbformat_minor": 5
}
