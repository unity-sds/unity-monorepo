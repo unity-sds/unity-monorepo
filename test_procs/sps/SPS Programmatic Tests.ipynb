{
 "cells": [
  {
   "cell_type": "markdown",
   "id": "7e1822bd-5256-47e1-b7c0-eb4d686630ef",
   "metadata": {},
   "source": [
    "# Airflow Test Procedures\n",
    "\n",
    "## Setup"
   ]
  },
  {
   "cell_type": "code",
   "execution_count": 1,
   "id": "38143e42-3efb-4f61-b18d-07ed3364b83e",
   "metadata": {},
   "outputs": [
    {
     "name": "stdin",
     "output_type": "stream",
     "text": [
      "Enter your username ········\n",
      "Enter your password ········\n"
     ]
    }
   ],
   "source": [
    "import requests\n",
    "import getpass\n",
    "\n",
    "username = getpass.getpass('Enter your username')\n",
    "password = getpass.getpass('Enter your password')\n"
   ]
  },
  {
   "cell_type": "markdown",
   "id": "3c3c87fa-a5af-4e95-84a3-e52d7d2ce291",
   "metadata": {},
   "source": [
    "## Error Notification Listing"
   ]
  },
  {
   "cell_type": "code",
   "execution_count": 19,
   "id": "a0488aa7-fa44-453e-839c-3a12acf44bbd",
   "metadata": {},
   "outputs": [
    {
     "data": {
      "text/plain": [
       "{'dag_runs': [{'conf': {'cwl_args': '{}',\n",
       "    'cwl_workflow': 'https://raw.githubusercontent.com/unity-sds/sbg-workflows/main/preprocess/sbg-preprocess-workflow.cwl'},\n",
       "   'dag_id': 'cwl-dag',\n",
       "   'dag_run_id': 'manual__2024-04-24T18:28:24+00:00',\n",
       "   'data_interval_end': '2024-04-24T18:28:24+00:00',\n",
       "   'data_interval_start': '2024-04-24T18:28:24+00:00',\n",
       "   'end_date': '2024-04-24T18:29:17.123004+00:00',\n",
       "   'execution_date': '2024-04-24T18:28:24+00:00',\n",
       "   'external_trigger': True,\n",
       "   'last_scheduling_decision': '2024-04-24T18:29:17.120873+00:00',\n",
       "   'logical_date': '2024-04-24T18:28:24+00:00',\n",
       "   'note': None,\n",
       "   'run_type': 'manual',\n",
       "   'start_date': '2024-04-24T18:28:42.678189+00:00',\n",
       "   'state': 'failed'}],\n",
       " 'total_entries': 1}"
      ]
     },
     "execution_count": 19,
     "metadata": {},
     "output_type": "execute_result"
    }
   ],
   "source": [
    "# All Errors\n",
    "params = {\"state\":\"failed\"}\n",
    "response = requests.get(\"http://k8s-airflow-airflowi-5b65901547-1351827995.us-west-2.elb.amazonaws.com:5000/api/v1/dags/cwl-dag/dagRuns\",auth=(username, password), params=params, headers={\"accept\":\"application/json\"})\n",
    "response.json()"
   ]
  },
  {
   "cell_type": "code",
   "execution_count": 20,
   "id": "895da6b1-ca3e-45b2-9dac-a302ccd1380a",
   "metadata": {},
   "outputs": [
    {
     "data": {
      "text/plain": [
       "{'dag_runs': [{'conf': {'cwl_args': '{}',\n",
       "    'cwl_workflow': 'https://raw.githubusercontent.com/unity-sds/sbg-workflows/main/preprocess/sbg-preprocess-workflow.cwl'},\n",
       "   'dag_id': 'cwl-dag',\n",
       "   'dag_run_id': 'manual__2024-04-24T18:28:24+00:00',\n",
       "   'data_interval_end': '2024-04-24T18:28:24+00:00',\n",
       "   'data_interval_start': '2024-04-24T18:28:24+00:00',\n",
       "   'end_date': '2024-04-24T18:29:17.123004+00:00',\n",
       "   'execution_date': '2024-04-24T18:28:24+00:00',\n",
       "   'external_trigger': True,\n",
       "   'last_scheduling_decision': '2024-04-24T18:29:17.120873+00:00',\n",
       "   'logical_date': '2024-04-24T18:28:24+00:00',\n",
       "   'note': None,\n",
       "   'run_type': 'manual',\n",
       "   'start_date': '2024-04-24T18:28:42.678189+00:00',\n",
       "   'state': 'failed'}],\n",
       " 'total_entries': 1}"
      ]
     },
     "execution_count": 20,
     "metadata": {},
     "output_type": "execute_result"
    }
   ],
   "source": [
    "# Last 24 hours\n",
    "from datetime import datetime\n",
    "from datetime import timedelta\n",
    "yesterday = datetime.now() - timedelta(days=1)\n",
    "params = {\"state\":\"failed\", \"execution_date_gte\":yesterday.strftime('%Y-%m-%dT%H:%M:%SZ')}\n",
    "response = requests.get(\"http://k8s-airflow-airflowi-5b65901547-1351827995.us-west-2.elb.amazonaws.com:5000/api/v1/dags/cwl-dag/dagRuns\",auth=(username, password), params=params, headers={\"accept\":\"application/json\"})\n",
    "response.json()"
   ]
  },
  {
   "cell_type": "code",
   "execution_count": null,
   "id": "e2b77525-2b2b-4bd4-983d-de278f4b9e57",
   "metadata": {},
   "outputs": [],
   "source": []
  }
 ],
 "metadata": {
  "kernelspec": {
   "display_name": "Python 3 (ipykernel)",
   "language": "python",
   "name": "python3"
  },
  "language_info": {
   "codemirror_mode": {
    "name": "ipython",
    "version": 3
   },
   "file_extension": ".py",
   "mimetype": "text/x-python",
   "name": "python",
   "nbconvert_exporter": "python",
   "pygments_lexer": "ipython3",
   "version": "3.8.18"
  }
 },
 "nbformat": 4,
 "nbformat_minor": 5
}
